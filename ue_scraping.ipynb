{
 "cells": [
  {
   "cell_type": "markdown",
   "metadata": {
    "cell_id": "9ab0154c3a644eb58dcc5c61ae110dcd",
    "deepnote_cell_type": "text-cell-h3",
    "formattedRanges": []
   },
   "source": [
    "###  Set up Environment"
   ]
  },
  {
   "cell_type": "code",
   "execution_count": 1,
   "metadata": {
    "cell_id": "f9bc2da1bbf543bb8a73380d1a0db6c8",
    "deepnote_cell_type": "code",
    "deepnote_to_be_reexecuted": false,
    "execution_context_id": "4630dea5-d565-4070-8fdc-311c3393224f",
    "execution_millis": 46,
    "execution_start": 1732173012166,
    "source_hash": "d6866b60"
   },
   "outputs": [],
   "source": [
    "import json\n",
    "from lxml import html\n",
    "from itertools import zip_longest\n",
    "import pandas as pd\n",
    "import time\n",
    "import random\n",
    "import re\n",
    "import pytz\n",
    "from datetime import datetime, date"
   ]
  },
  {
   "cell_type": "markdown",
   "metadata": {
    "cell_id": "74fb3e93f5a147878d420d3251d0587b",
    "deepnote_cell_type": "text-cell-h3",
    "formattedRanges": []
   },
   "source": [
    "### Install chromedriver"
   ]
  },
  {
   "cell_type": "code",
   "execution_count": null,
   "metadata": {
    "cell_id": "b5d60cf10b6c406ea3b8746b8553406b",
    "deepnote_app_is_output_hidden": true,
    "deepnote_cell_type": "code",
    "deepnote_to_be_reexecuted": false,
    "execution_context_id": "4630dea5-d565-4070-8fdc-311c3393224f",
    "execution_millis": 25279,
    "execution_start": 1732173012257,
    "is_output_hidden": false,
    "source_hash": "ac1b4df5"
   },
   "outputs": [],
   "source": [
    "# This is a special way only for Deepnote.\n",
    "# Solution from https://community.deepnote.com/c/ask-anything/webdriverexception-error \n",
    "!sudo apt-get update\n",
    "!sudo apt-get install chromium-driver -y"
   ]
  },
  {
   "cell_type": "markdown",
   "metadata": {
    "cell_id": "60258e30ddd045ae9e531ce3201f4ef5",
    "deepnote_cell_type": "text-cell-h3",
    "formattedRanges": []
   },
   "source": [
    "### Update datetime"
   ]
  },
  {
   "cell_type": "code",
   "execution_count": null,
   "metadata": {
    "cell_id": "0196ede927774a8c9f1332dd82ae7660",
    "deepnote_cell_type": "code",
    "deepnote_to_be_reexecuted": false,
    "execution_context_id": "04b35d1c-38a2-4595-b29e-c94c1d64edaf",
    "execution_millis": 0,
    "execution_start": 1732173037581,
    "source_hash": "71340328"
   },
   "outputs": [],
   "source": [
    "# Today\n",
    "today = date.today()\n",
    "print(\"today: \",today)\n",
    "\n",
    "# Date + time\n",
    "update_time = datetime.fromtimestamp(time.time())\n",
    "print(\"current_time:\",update_time)\n",
    "\n",
    "# Start_time\n",
    "start=time.perf_counter()"
   ]
  },
  {
   "cell_type": "markdown",
   "metadata": {
    "cell_id": "b46a960f0b614f7fbde4b30a4de5a5de",
    "deepnote_cell_type": "text-cell-h3",
    "formattedRanges": []
   },
   "source": [
    "### Upload address.csv"
   ]
  },
  {
   "cell_type": "code",
   "execution_count": null,
   "metadata": {
    "cell_id": "5abaa94b00244989b9897c3a0d475ea6",
    "deepnote_cell_type": "code",
    "deepnote_to_be_reexecuted": false,
    "execution_context_id": "65aa0533-2649-4615-9fc0-a1f4a4a42e94",
    "execution_millis": 295,
    "execution_start": 1732173037625,
    "source_hash": "ede88200"
   },
   "outputs": [],
   "source": [
    "df = pd.read_csv('doc/address_20240329.csv')\n",
    "print(df)\n",
    "\n",
    "city = df['city'].tolist()\n",
    "town = df['town'].tolist()\n",
    "address = df['address'].tolist()"
   ]
  },
  {
   "cell_type": "markdown",
   "metadata": {
    "cell_id": "ed561c36da2c43a58b9c575d86a738b4",
    "deepnote_cell_type": "text-cell-h3",
    "formattedRanges": []
   },
   "source": [
    "### Set up chromedriver"
   ]
  },
  {
   "cell_type": "code",
   "execution_count": null,
   "metadata": {
    "cell_id": "ad83f29b5e5d465da510543e0fad940d",
    "deepnote_app_is_output_hidden": true,
    "deepnote_cell_type": "code",
    "deepnote_to_be_reexecuted": false,
    "execution_context_id": "4630dea5-d565-4070-8fdc-311c3393224f",
    "execution_millis": 3303,
    "execution_start": 1732173037961,
    "is_output_hidden": true,
    "source_hash": "29568a1d"
   },
   "outputs": [],
   "source": [
    "!pip install selenium==4.4.0\n",
    "from selenium import webdriver\n",
    "from selenium.webdriver.chrome.service import Service\n",
    "from selenium.webdriver.chrome.options import Options\n",
    "from selenium.webdriver.common.by import By\n",
    "\n",
    "# Set headless and no sandbox. The no sandbox is for Deepnote.\n",
    "options = Options()\n",
    "options.add_argument('--headless')\n",
    "options.add_argument('--no-sandbox')\n",
    "options.add_argument('--no-gpu')\n",
    "options.add_argument('--disable-extensions')\n",
    "options.add_argument('--dns-prefetch-disable')"
   ]
  },
  {
   "cell_type": "markdown",
   "metadata": {
    "cell_id": "042c4621b6874e598645aba92af45912",
    "deepnote_cell_type": "text-cell-h3",
    "formattedRanges": []
   },
   "source": [
    "### Scrape all swimlane data & nearby vendor data"
   ]
  },
  {
   "cell_type": "code",
   "execution_count": 6,
   "metadata": {
    "cell_id": "fb4d899eced94c44a8ca4a392b8572b1",
    "deepnote_cell_type": "code",
    "deepnote_to_be_reexecuted": false,
    "execution_context_id": "04b35d1c-38a2-4595-b29e-c94c1d64edaf",
    "execution_millis": 0,
    "execution_start": 1732173041309,
    "source_hash": "2a3c97ad"
   },
   "outputs": [],
   "source": [
    "col_html_content =[]\n",
    "col_html_address =[]\n",
    "col_phone =[]\n",
    "page_status =[]\n",
    "page_count =[]\n",
    "page_address = []\n",
    "page_time = []"
   ]
  },
  {
   "cell_type": "code",
   "execution_count": null,
   "metadata": {
    "cell_id": "7b54a4d222ec49d18533f2d1293ba37b",
    "deepnote_cell_type": "code",
    "deepnote_to_be_reexecuted": false,
    "execution_context_id": "4630dea5-d565-4070-8fdc-311c3393224f",
    "execution_millis": 653249,
    "execution_start": 1732173041353,
    "source_hash": "5b01325d"
   },
   "outputs": [],
   "source": [
    "for i in address[0:11]:\n",
    "    try:\n",
    "        # 判断要使用的 cookie\n",
    "        cookie_file = 'cookie/mkt_user1_cookie.json'\n",
    "        phone = \"xxxxx\"\n",
    "\n",
    "        # 打開對應的 cookie\n",
    "        with open(cookie_file) as f:\n",
    "            cookies = json.load(f)\n",
    "\n",
    "        # 打開網頁，並加入 cookie\n",
    "        if __name__ == '__main__':\n",
    "            driver = webdriver.Chrome(options=options)\n",
    "            driver.get('https://www.ubereats.com/tw')\n",
    "\n",
    "            for cookie in cookies:\n",
    "                driver.add_cookie(cookie)\n",
    "            driver.refresh()\n",
    "            \n",
    "        driver.maximize_window()\n",
    "\n",
    "        #  --- 切換地址 ---\n",
    "        #找到輸入地址的地方\n",
    "        driver.find_element(By.XPATH,'//*[@id=\"wrapper\"]/header/div/div/div/div/div/div[3]/div[1]/div[2]/a/div[1]').click() \n",
    "        time.sleep(2)\n",
    "        #進入變更區域。\n",
    "        driver.find_element(By.XPATH,'//*[@id=\"wrapper\"]/div[3]/div/div/div[2]/div[3]/div/div[2]/div[1]/div[2]/a').click()\n",
    "        time.sleep(2)\n",
    "        #選取變更區域。\n",
    "        getblock1 = driver.find_element(By.XPATH,'//*[@id=\"location-typeahead-location-manager-input\"]')\n",
    "        #輸入要變更的地址。\n",
    "        getblock1.send_keys(i) \n",
    "        time.sleep(3)\n",
    "        #按下Enter送出地址\n",
    "        getblock1.send_keys('\\ue007')\n",
    "        time.sleep(3)\n",
    "        print(i, \"換地址成功\",\"當前地址：\",driver.find_element(By.XPATH,'//*[@id=\"wrapper\"]/header/div/div/div/div/div/div[3]/div[1]/div[2]/a/div[1]').text)\n",
    "        \n",
    "        #  --- 展開更多店家 \n",
    "\n",
    "        for click in range(1,12):\n",
    "            try:\n",
    "                button = driver.find_element(By.XPATH, '//*[@id=\"main-content\"]/div/div[5]/div/div/button')\n",
    "                button_text = button.text\n",
    "                button.click()\n",
    "                time.sleep(5)\n",
    "                page_status.append(button_text)\n",
    "                page_count.append(click)\n",
    "                page_address.append(i)\n",
    "                page_time.append(datetime.fromtimestamp(time.time()))\n",
    "            except:\n",
    "                pass\n",
    "        print(i,\"更多店家展開完成\")\n",
    "        time.sleep(3)\n",
    "        \n",
    "        #  --- 開始爬取整頁資料 ---\n",
    "\n",
    "        html_content = driver.page_source\n",
    "        col_html_content.append(html_content)\n",
    "        col_html_address.append(i)\n",
    "        col_phone.append(phone)\n",
    "\n",
    "        print(i,\"資料爬取完成\")    \n",
    "\n",
    "       # --- 單一地址資料抓取結束 ---  \n",
    "\n",
    "       # --- 頁面結束畫面screenshot\n",
    "        driver.set_window_size(1200, 1000)\n",
    "        picture_name = \"screenshot/\" + \"end_\" + i + \"_\" + str(update_time) + \".png\"\n",
    "        driver.save_screenshot(picture_name)\n",
    "       \n",
    "       # --- 關閉網站\n",
    "        driver.close() \n",
    "\n",
    "    except:\n",
    "        driver.close() \n",
    "       \n",
    "print(\"地址查詢完成\")"
   ]
  },
  {
   "cell_type": "markdown",
   "metadata": {
    "cell_id": "3596f8c88e2c475881854d8723a4b609",
    "deepnote_cell_type": "text-cell-h3",
    "formattedRanges": []
   },
   "source": [
    "### Expand more restaurants dataframe"
   ]
  },
  {
   "cell_type": "code",
   "execution_count": null,
   "metadata": {
    "cell_id": "cb76c341e8444058afa4bfe99cb7ecd6",
    "deepnote_cell_type": "code",
    "deepnote_to_be_reexecuted": false,
    "execution_context_id": "04b35d1c-38a2-4595-b29e-c94c1d64edaf",
    "execution_millis": 0,
    "execution_start": 1732173694653,
    "source_hash": "4d8440ff"
   },
   "outputs": [],
   "source": [
    "page_data = {\n",
    "    'page_address': page_address,\n",
    "    'page_status': page_status,\n",
    "    'page_click': page_count,\n",
    "    'page_time': page_time,\n",
    "}\n",
    "\n",
    "page_df = pd.DataFrame(page_data)\n",
    "print(page_df)"
   ]
  },
  {
   "cell_type": "markdown",
   "metadata": {
    "cell_id": "335456f1e4d74f0586809d2e5bbc63d4",
    "deepnote_cell_type": "text-cell-h3",
    "formattedRanges": []
   },
   "source": [
    "### Get HTML data"
   ]
  },
  {
   "cell_type": "code",
   "execution_count": null,
   "metadata": {
    "cell_id": "5f438da4444542e4b162541f915bec66",
    "deepnote_cell_type": "code",
    "deepnote_to_be_reexecuted": false,
    "execution_context_id": "4630dea5-d565-4070-8fdc-311c3393224f",
    "execution_millis": 447,
    "execution_start": 1732173694701,
    "source_hash": "efcdbb88"
   },
   "outputs": [],
   "source": [
    "scrape_time = [update_time] * len (col_html_content)\n",
    "html_data= pd.DataFrame({'html_address':col_html_address,'html_content':col_html_content, 'phone':col_phone, 'scrape_time_utc': scrape_time})\n",
    "html_data"
   ]
  },
  {
   "cell_type": "markdown",
   "metadata": {
    "cell_id": "e8a2876d148f48fcb7aad19cabd9bf45",
    "deepnote_cell_type": "text-cell-h3",
    "formattedRanges": []
   },
   "source": [
    "### Clean html data"
   ]
  },
  {
   "cell_type": "code",
   "execution_count": 10,
   "metadata": {
    "cell_id": "320a607447724352a4f76904e8285331",
    "deepnote_cell_type": "code",
    "deepnote_to_be_reexecuted": false,
    "execution_context_id": "358da31b-2d33-402c-bbbf-0e32329719af",
    "execution_millis": 0,
    "execution_start": 1732173695213,
    "source_hash": "d11eed55"
   },
   "outputs": [],
   "source": [
    "from lxml import html\n",
    "from itertools import zip_longest"
   ]
  },
  {
   "cell_type": "code",
   "execution_count": 11,
   "metadata": {
    "cell_id": "57eb9563cc024456b679dc97daec25a4",
    "deepnote_cell_type": "code",
    "deepnote_to_be_reexecuted": false,
    "execution_context_id": "04b35d1c-38a2-4595-b29e-c94c1d64edaf",
    "execution_millis": 0,
    "execution_start": 1732173695261,
    "source_hash": "5a1e05a2"
   },
   "outputs": [],
   "source": [
    "col_swimlane = []\n",
    "col_address = []\n",
    "col_status = []\n",
    "col_vendor = []\n",
    "col_delivery_fee = []\n",
    "col_delivery_time = []\n",
    "col_comment = []\n",
    "col_user = []"
   ]
  },
  {
   "cell_type": "markdown",
   "metadata": {
    "cell_id": "30a62a2d527b40fb887724af26fac7b8",
    "deepnote_cell_type": "text-cell-h3",
    "formattedRanges": []
   },
   "source": [
    "### UE Swimlane"
   ]
  },
  {
   "cell_type": "code",
   "execution_count": null,
   "metadata": {
    "cell_id": "49bcfb261c9a4e909a9cae8ffe27f858",
    "deepnote_cell_type": "code",
    "deepnote_to_be_reexecuted": false,
    "execution_context_id": "4630dea5-d565-4070-8fdc-311c3393224f",
    "execution_millis": 202003,
    "execution_start": 1732173695350,
    "source_hash": "36286e6"
   },
   "outputs": [],
   "source": [
    "# switch html\n",
    "for a in range(0,11):\n",
    "    try:\n",
    "        tree = html.fromstring(col_html_content[a])\n",
    "    # switch swimlane\n",
    "        for k in range(1,40):\n",
    "            try:\n",
    "                xpath_swimlane = f'//*[@id=\"main-content\"]/div/div[5]/div/div/div[2]/div[{k}]/div/section/div[1]/div[1]/div/div[1]/a/div'\n",
    "                swimlane = tree.xpath(xpath_swimlane)\n",
    "                for m in range(1,5):\n",
    "                    try:\n",
    "                        for l in range(1,5):\n",
    "                            try:\n",
    "                                xpath_vendor_name = f'//*[@id=\"main-content\"]/div/div[5]/div/div/div[2]/div[{k}]/div/section/div[2]/ul[{m}]/li[{l}]/div/div/div/div[2]/div[1]/div[1]/div'\n",
    "                                xpath_delivery_fee = f'//*[@id=\"main-content\"]/div/div[5]/div/div/div[2]/div[{k}]/div/section/div[2]/ul[{m}]/li[{l}]/div/div/div/div[2]/div[2]/div[1]/span/div/span/span'\n",
    "                                xpath_delivery_time = f'//*[@id=\"main-content\"]/div/div[5]/div/div/div[2]/div[{k}]/div/section/div[2]/ul[{m}]/li[{l}]/div/div/div/div[2]/div[2]/div[2]/span[2]/div'\n",
    "                                xpath_comment = f'//*[@id=\"main-content\"]/div/div[5]/div/div/div[2]/div[{k}]/div/section/div[2]/ul[{m}]/li[{l}]/div/div/div/div[2]/div[1]/span'\n",
    "                                vendor_name = tree.xpath(xpath_vendor_name)\n",
    "                                delivery_fee = tree.xpath(xpath_delivery_fee)\n",
    "                                delivery_time = tree.xpath(xpath_delivery_time)\n",
    "                                comment = tree.xpath(xpath_comment)\n",
    "                                for d,e,f,g,h in zip_longest(swimlane,vendor_name, delivery_fee, delivery_time, comment, fillvalue=None):\n",
    "                                    if d is not None and e is not None and f is not None and g is not None and h is not None:\n",
    "                                        col_swimlane.append(d.text_content())\n",
    "                                        col_address.append(col_html_address[a])\n",
    "                                        col_vendor.append(e.text_content())\n",
    "                                        col_delivery_fee.append(f.text_content())\n",
    "                                        col_delivery_time.append(g.text_content())\n",
    "                                        col_comment.append(h.text_content())\n",
    "                                        col_status.append('NA')\n",
    "                                        col_user.append(col_phone[a])\n",
    "                                    else:\n",
    "                                        pass\n",
    "                            except:\n",
    "                                pass\n",
    "                    except:\n",
    "                        pass\n",
    "            except: \n",
    "                pass\n",
    "    except:\n",
    "        pass\n",
    "print(\"Complete Swimlane Scraping!\")"
   ]
  },
  {
   "cell_type": "code",
   "execution_count": null,
   "metadata": {
    "cell_id": "945b40327c84473f9d9e96bb32351245",
    "deepnote_cell_type": "code",
    "deepnote_to_be_reexecuted": false,
    "execution_context_id": "04b35d1c-38a2-4595-b29e-c94c1d64edaf",
    "execution_millis": 0,
    "execution_start": 1732173897401,
    "source_hash": "a0ea4306"
   },
   "outputs": [],
   "source": [
    "# count of swimlane data\n",
    "print(\"address\", len(col_address),\n",
    "      \"swimlane\", len(col_swimlane),\n",
    "      \"vendor_name\", len(col_vendor),\n",
    "      \"delivery_fee\",len(col_delivery_fee),\n",
    "      \"delivery_time\",len(col_delivery_time),\n",
    "      \"comment\",len(col_comment),\n",
    "      \"status\",len(col_status),\n",
    "      \"user\",len(col_user))"
   ]
  },
  {
   "cell_type": "markdown",
   "metadata": {
    "cell_id": "8799a1ecafb044268a12dbf76e86a39d",
    "deepnote_cell_type": "text-cell-h3",
    "formattedRanges": []
   },
   "source": [
    "### UE nearby vendors "
   ]
  },
  {
   "cell_type": "code",
   "execution_count": null,
   "metadata": {
    "cell_id": "d2171b0ade0b4b9797b4d84b3e7942c7",
    "deepnote_cell_type": "code",
    "deepnote_to_be_reexecuted": false,
    "execution_context_id": "4630dea5-d565-4070-8fdc-311c3393224f",
    "execution_millis": 294940,
    "execution_start": 1732173897445,
    "source_hash": "cc0bd43d"
   },
   "outputs": [],
   "source": [
    "for a in range(0,11):\n",
    "    try:\n",
    "        tree = html.fromstring(col_html_content[a])\n",
    "        for m in range(0,700):\n",
    "            try: \n",
    "                xpath_status = f'//*[@id=\"main-content\"]/div/div[5]/div/div/div[2]/div[{m}]/div/div/div/div/div[1]/figcaption/div[2]/div/div'\n",
    "                status = tree.xpath(xpath_status)\n",
    "                xpath_vendor_name = f'//*[@id=\"main-content\"]/div/div[5]/div/div/div[2]/div[{m}]/div/div/div/a/h3'\n",
    "                vendor_name = tree.xpath(xpath_vendor_name)\n",
    "                xpath_delivery_fee = f'//*[@id=\"main-content\"]/div/div[5]/div/div/div[2]/div[{m}]/div/div/div/div/div[2]/div[2]/div[1]/span/div/span/span'\n",
    "                delivery_fee = tree.xpath(xpath_delivery_fee)\n",
    "                xpath_delivery_time = f'//*[@id=\"main-content\"]/div/div[5]/div/div/div[2]/div[{m}]/div/div/div/div/div[2]/div[2]/div[2]/span[2]/div'\n",
    "                delivery_time = tree.xpath(xpath_delivery_time)\n",
    "                xpath_comment = f'//*[@id=\"main-content\"]/div/div[5]/div/div/div[2]/div[{m}]/div/div/div/div/div[2]/div[1]/span'\n",
    "                comment = tree.xpath(xpath_comment)\n",
    "                for o, p, q, r, s in zip_longest(status, vendor_name, delivery_fee, delivery_time, comment, fillvalue='NA'):\n",
    "                    col_swimlane.append(\"附近店家\")\n",
    "                    col_address.append(col_html_address[a])\n",
    "                    col_status.append(o.text_content() if o != 'NA' else 'NA')\n",
    "                    col_vendor.append(p.text_content() if p != 'NA' else 'NA')\n",
    "                    col_delivery_fee.append(q.text_content() if q != 'NA' else 'NA')\n",
    "                    col_delivery_time.append(r.text_content() if r != 'NA' else 'NA')\n",
    "                    col_comment.append(s.text_content() if s != 'NA' else 'NA') \n",
    "                    col_user.append(col_phone[a])\n",
    "            except:\n",
    "                pass\n",
    "    except:\n",
    "        pass\n",
    "print(\"Complete Nearby Vendors Scraping!\")"
   ]
  },
  {
   "cell_type": "code",
   "execution_count": null,
   "metadata": {
    "cell_id": "adbf2f3e23124daca3c28ffb784a6cb2",
    "deepnote_cell_type": "code",
    "deepnote_to_be_reexecuted": false,
    "execution_context_id": "04b35d1c-38a2-4595-b29e-c94c1d64edaf",
    "execution_millis": 0,
    "execution_start": 1732174192433,
    "source_hash": "4fdac6d7"
   },
   "outputs": [],
   "source": [
    "# count of swimlane + nearby vendors data\n",
    "print(\"address\", len(col_address),\n",
    "      \"swimlane\", len(col_swimlane),\n",
    "      \"vendor_name\", len(col_vendor),\n",
    "      \"delivery_fee\",len(col_delivery_fee),\n",
    "      \"delivery_time\",len(col_delivery_time),\n",
    "      \"comment\",len(col_comment),\n",
    "      \"status\",len(col_status),\n",
    "      \"user\",len(col_user))"
   ]
  },
  {
   "cell_type": "code",
   "execution_count": 16,
   "metadata": {
    "cell_id": "585b2cf3af19409bac48643a1c0c9964",
    "deepnote_cell_type": "code",
    "deepnote_table_loading": false,
    "deepnote_table_state": {
     "filters": [],
     "pageIndex": 0,
     "pageSize": 10,
     "sortBy": []
    },
    "deepnote_to_be_reexecuted": false,
    "execution_context_id": "04b35d1c-38a2-4595-b29e-c94c1d64edaf",
    "execution_millis": 0,
    "execution_start": 1732174192481,
    "source_hash": "cb7f1c02"
   },
   "outputs": [
    {
     "data": {
      "application/vnd.deepnote.dataframe.v3+json": {
       "column_count": 8,
       "columns": [
        {
         "dtype": "object",
         "name": "swimlane",
         "stats": {
          "categories": [
           {
            "count": 4893,
            "name": "附近店家"
           },
           {
            "count": 87,
            "name": "每日優惠"
           },
           {
            "count": 608,
            "name": "14 others"
           }
          ],
          "nan_count": 0,
          "unique_count": 16
         }
        },
        {
         "dtype": "object",
         "name": "address",
         "stats": {
          "categories": [
           {
            "count": 870,
            "name": "105台北市松山區復興北路361巷7號"
           },
           {
            "count": 824,
            "name": "100台北市中正區八德路一段1號"
           },
           {
            "count": 3894,
            "name": "6 others"
           }
          ],
          "nan_count": 0,
          "unique_count": 8
         }
        },
        {
         "dtype": "object",
         "name": "status",
         "stats": {
          "categories": [
           {
            "count": 5153,
            "name": "NA"
           },
           {
            "count": 175,
            "name": "附近沒有合作外送夥伴"
           },
           {
            "count": 260,
            "name": "4 others"
           }
          ],
          "nan_count": 0,
          "unique_count": 6
         }
        },
        {
         "dtype": "object",
         "name": "vendor",
         "stats": {
          "categories": [
           {
            "count": 544,
            "name": "NA"
           },
           {
            "count": 16,
            "name": "Pizza Hut必勝客"
           },
           {
            "count": 5028,
            "name": "3311 others"
           }
          ],
          "nan_count": 0,
          "unique_count": 3313
         }
        },
        {
         "dtype": "object",
         "name": "df",
         "stats": {
          "categories": [
           {
            "count": 1337,
            "name": "NA"
           },
           {
            "count": 1042,
            "name": "5TWD 費用"
           },
           {
            "count": 3209,
            "name": "23 others"
           }
          ],
          "nan_count": 0,
          "unique_count": 25
         }
        },
        {
         "dtype": "object",
         "name": "dt",
         "stats": {
          "categories": [
           {
            "count": 1881,
            "name": "NA"
           },
           {
            "count": 769,
            "name": "15–30 分鐘"
           },
           {
            "count": 2938,
            "name": "27 others"
           }
          ],
          "nan_count": 0,
          "unique_count": 29
         }
        },
        {
         "dtype": "object",
         "name": "comment",
         "stats": {
          "categories": [
           {
            "count": 1777,
            "name": "在 5 星評分中獲得 4.9 顆星的高人氣餐廳 - 根據 200 則以上的顧客評論。"
           },
           {
            "count": 1643,
            "name": "在 5 星評分中獲得 4.8 顆星的高人氣餐廳 - 根據 200 則以上的顧客評論。"
           },
           {
            "count": 2168,
            "name": "328 others"
           }
          ],
          "nan_count": 0,
          "unique_count": 330
         }
        },
        {
         "dtype": "bool",
         "name": "orderable",
         "stats": {
          "categories": [
           {
            "count": 5153,
            "name": "True"
           },
           {
            "count": 435,
            "name": "False"
           }
          ],
          "nan_count": 0,
          "unique_count": 2
         }
        },
        {
         "dtype": "int64",
         "name": "_deepnote_index_column"
        }
       ],
       "row_count": 5588,
       "rows": [
        {
         "_deepnote_index_column": 0,
         "address": "400台中市中區臺灣大道一段1號",
         "comment": "在 5 星評分中獲得 4.6 顆星的高人氣餐廳 - 根據 99 則顧客評論。",
         "df": "5.00TWD 費用",
         "dt": "10–30 分鐘",
         "orderable": "True",
         "status": "NA",
         "swimlane": "日用品外送到府",
         "vendor": "統一超商 綠川門市"
        },
        {
         "_deepnote_index_column": 1,
         "address": "400台中市中區臺灣大道一段1號",
         "comment": "在 5 星評分中獲得 5.0 顆星的高人氣餐廳 - 根據 58 則顧客評論。",
         "df": "5.00TWD 費用",
         "dt": "10–25 分鐘",
         "orderable": "True",
         "status": "NA",
         "swimlane": "日用品外送到府",
         "vendor": "日藥本舖 台中一中門市"
        },
        {
         "_deepnote_index_column": 2,
         "address": "400台中市中區臺灣大道一段1號",
         "comment": "在 5 星評分中獲得 4.8 顆星的高人氣餐廳 - 根據 200 則以上的顧客評論。",
         "df": "5.00TWD 費用",
         "dt": "10–30 分鐘",
         "orderable": "True",
         "status": "NA",
         "swimlane": "日用品外送到府",
         "vendor": "萊爾富4723台中夜市店"
        },
        {
         "_deepnote_index_column": 3,
         "address": "400台中市中區臺灣大道一段1號",
         "comment": "在 5 星評分中獲得 4.8 顆星的高人氣餐廳 - 根據 200 則以上的顧客評論。",
         "df": "5.00TWD 費用",
         "dt": "10–25 分鐘",
         "orderable": "True",
         "status": "NA",
         "swimlane": "日用品外送到府",
         "vendor": "全家Famisuper 台中金福仁店_023225"
        },
        {
         "_deepnote_index_column": 4,
         "address": "400台中市中區臺灣大道一段1號",
         "comment": "在 5 星評分中獲得 4.9 顆星的高人氣餐廳 - 根據 200 則以上的顧客評論。",
         "df": "5.00TWD 費用",
         "dt": "10–25 分鐘",
         "orderable": "True",
         "status": "NA",
         "swimlane": "日用品外送到府",
         "vendor": "Uber Eats 優市 精武店"
        },
        {
         "_deepnote_index_column": 5,
         "address": "400台中市中區臺灣大道一段1號",
         "comment": "在 5 星評分中獲得 4.9 顆星的高人氣餐廳 - 根據 200 則以上的顧客評論。",
         "df": "5.00TWD 費用",
         "dt": "10–30 分鐘",
         "orderable": "True",
         "status": "NA",
         "swimlane": "每日優惠",
         "vendor": "全聯福利中心  台中忠孝"
        },
        {
         "_deepnote_index_column": 6,
         "address": "400台中市中區臺灣大道一段1號",
         "comment": "在 5 星評分中獲得 4.8 顆星的高人氣餐廳 - 根據 200 則以上的顧客評論。",
         "df": "5.00TWD 費用",
         "dt": "25–45 分鐘",
         "orderable": "True",
         "status": "NA",
         "swimlane": "每日優惠",
         "vendor": "大里內新黃昏傳統市場"
        },
        {
         "_deepnote_index_column": 7,
         "address": "400台中市中區臺灣大道一段1號",
         "comment": "在 5 星評分中獲得 4.7 顆星的高人氣餐廳 - 根據 200 則以上的顧客評論。",
         "df": "5.00TWD 費用",
         "dt": "20–40 分鐘",
         "orderable": "True",
         "status": "NA",
         "swimlane": "每日優惠",
         "vendor": "新光黃昏傳統市場"
        },
        {
         "_deepnote_index_column": 8,
         "address": "400台中市中區臺灣大道一段1號",
         "comment": "在 5 星評分中獲得 4.9 顆星的高人氣餐廳 - 根據 200 則以上的顧客評論。",
         "df": "5.00TWD 費用",
         "dt": "30–50 分鐘",
         "orderable": "True",
         "status": "NA",
         "swimlane": "每日優惠",
         "vendor": "健康黃昏傳統市場"
        },
        {
         "_deepnote_index_column": 9,
         "address": "400台中市中區臺灣大道一段1號",
         "comment": "在 5 星評分中獲得 4.9 顆星的高人氣餐廳 - 根據 200 則以上的顧客評論。",
         "df": "5.00TWD 費用",
         "dt": "10–25 分鐘",
         "orderable": "True",
         "status": "NA",
         "swimlane": "每日優惠",
         "vendor": "Uber Eats 優市 精武店"
        }
       ]
      },
      "text/html": [
       "<div>\n",
       "<style scoped>\n",
       "    .dataframe tbody tr th:only-of-type {\n",
       "        vertical-align: middle;\n",
       "    }\n",
       "\n",
       "    .dataframe tbody tr th {\n",
       "        vertical-align: top;\n",
       "    }\n",
       "\n",
       "    .dataframe thead th {\n",
       "        text-align: right;\n",
       "    }\n",
       "</style>\n",
       "<table border=\"1\" class=\"dataframe\">\n",
       "  <thead>\n",
       "    <tr style=\"text-align: right;\">\n",
       "      <th></th>\n",
       "      <th>swimlane</th>\n",
       "      <th>address</th>\n",
       "      <th>status</th>\n",
       "      <th>vendor</th>\n",
       "      <th>df</th>\n",
       "      <th>dt</th>\n",
       "      <th>comment</th>\n",
       "      <th>orderable</th>\n",
       "    </tr>\n",
       "  </thead>\n",
       "  <tbody>\n",
       "    <tr>\n",
       "      <th>0</th>\n",
       "      <td>日用品外送到府</td>\n",
       "      <td>400台中市中區臺灣大道一段1號</td>\n",
       "      <td>NA</td>\n",
       "      <td>統一超商 綠川門市</td>\n",
       "      <td>5.00TWD 費用</td>\n",
       "      <td>10–30 分鐘</td>\n",
       "      <td>在 5 星評分中獲得 4.6 顆星的高人氣餐廳 - 根據 99 則顧客評論。</td>\n",
       "      <td>True</td>\n",
       "    </tr>\n",
       "    <tr>\n",
       "      <th>1</th>\n",
       "      <td>日用品外送到府</td>\n",
       "      <td>400台中市中區臺灣大道一段1號</td>\n",
       "      <td>NA</td>\n",
       "      <td>日藥本舖 台中一中門市</td>\n",
       "      <td>5.00TWD 費用</td>\n",
       "      <td>10–25 分鐘</td>\n",
       "      <td>在 5 星評分中獲得 5.0 顆星的高人氣餐廳 - 根據 58 則顧客評論。</td>\n",
       "      <td>True</td>\n",
       "    </tr>\n",
       "    <tr>\n",
       "      <th>2</th>\n",
       "      <td>日用品外送到府</td>\n",
       "      <td>400台中市中區臺灣大道一段1號</td>\n",
       "      <td>NA</td>\n",
       "      <td>萊爾富4723台中夜市店</td>\n",
       "      <td>5.00TWD 費用</td>\n",
       "      <td>10–30 分鐘</td>\n",
       "      <td>在 5 星評分中獲得 4.8 顆星的高人氣餐廳 - 根據 200 則以上的顧客評論。</td>\n",
       "      <td>True</td>\n",
       "    </tr>\n",
       "    <tr>\n",
       "      <th>3</th>\n",
       "      <td>日用品外送到府</td>\n",
       "      <td>400台中市中區臺灣大道一段1號</td>\n",
       "      <td>NA</td>\n",
       "      <td>全家Famisuper 台中金福仁店_023225</td>\n",
       "      <td>5.00TWD 費用</td>\n",
       "      <td>10–25 分鐘</td>\n",
       "      <td>在 5 星評分中獲得 4.8 顆星的高人氣餐廳 - 根據 200 則以上的顧客評論。</td>\n",
       "      <td>True</td>\n",
       "    </tr>\n",
       "    <tr>\n",
       "      <th>4</th>\n",
       "      <td>日用品外送到府</td>\n",
       "      <td>400台中市中區臺灣大道一段1號</td>\n",
       "      <td>NA</td>\n",
       "      <td>Uber Eats 優市 精武店</td>\n",
       "      <td>5.00TWD 費用</td>\n",
       "      <td>10–25 分鐘</td>\n",
       "      <td>在 5 星評分中獲得 4.9 顆星的高人氣餐廳 - 根據 200 則以上的顧客評論。</td>\n",
       "      <td>True</td>\n",
       "    </tr>\n",
       "    <tr>\n",
       "      <th>...</th>\n",
       "      <td>...</td>\n",
       "      <td>...</td>\n",
       "      <td>...</td>\n",
       "      <td>...</td>\n",
       "      <td>...</td>\n",
       "      <td>...</td>\n",
       "      <td>...</td>\n",
       "      <td>...</td>\n",
       "    </tr>\n",
       "    <tr>\n",
       "      <th>5583</th>\n",
       "      <td>附近店家</td>\n",
       "      <td>701台南市東區中華東路一段366號</td>\n",
       "      <td>NA</td>\n",
       "      <td>蒸滿足 成大店</td>\n",
       "      <td>NA</td>\n",
       "      <td>NA</td>\n",
       "      <td>在 5 星評分中獲得 4.9 顆星的高人氣餐廳 - 根據 200 則以上的顧客評論。</td>\n",
       "      <td>True</td>\n",
       "    </tr>\n",
       "    <tr>\n",
       "      <th>5584</th>\n",
       "      <td>附近店家</td>\n",
       "      <td>701台南市東區中華東路一段366號</td>\n",
       "      <td>NA</td>\n",
       "      <td>小得飲滿 民族店</td>\n",
       "      <td>NA</td>\n",
       "      <td>NA</td>\n",
       "      <td>在 5 星評分中獲得 4.9 顆星的高人氣餐廳 - 根據 94 則顧客評論。</td>\n",
       "      <td>True</td>\n",
       "    </tr>\n",
       "    <tr>\n",
       "      <th>5585</th>\n",
       "      <td>附近店家</td>\n",
       "      <td>701台南市東區中華東路一段366號</td>\n",
       "      <td>NA</td>\n",
       "      <td>京享鐵板燒 忠義店</td>\n",
       "      <td>NA</td>\n",
       "      <td>NA</td>\n",
       "      <td>在 5 星評分中獲得 4.8 顆星的高人氣餐廳 - 根據 200 則以上的顧客評論。</td>\n",
       "      <td>True</td>\n",
       "    </tr>\n",
       "    <tr>\n",
       "      <th>5586</th>\n",
       "      <td>附近店家</td>\n",
       "      <td>701台南市東區中華東路一段366號</td>\n",
       "      <td>NA</td>\n",
       "      <td>廣西老友麵館 開元店</td>\n",
       "      <td>NA</td>\n",
       "      <td>NA</td>\n",
       "      <td>在 5 星評分中獲得 4.7 顆星的高人氣餐廳 - 根據 200 則以上的顧客評論。</td>\n",
       "      <td>True</td>\n",
       "    </tr>\n",
       "    <tr>\n",
       "      <th>5587</th>\n",
       "      <td>附近店家</td>\n",
       "      <td>701台南市東區中華東路一段366號</td>\n",
       "      <td>NA</td>\n",
       "      <td>日希好茶</td>\n",
       "      <td>NA</td>\n",
       "      <td>NA</td>\n",
       "      <td>在 5 星評分中獲得 4.9 顆星的高人氣餐廳 - 根據 200 則以上的顧客評論。</td>\n",
       "      <td>True</td>\n",
       "    </tr>\n",
       "  </tbody>\n",
       "</table>\n",
       "<p>5588 rows × 8 columns</p>\n",
       "</div>"
      ],
      "text/plain": [
       "     swimlane             address status                     vendor  \\\n",
       "0     日用品外送到府    400台中市中區臺灣大道一段1號     NA                  統一超商 綠川門市   \n",
       "1     日用品外送到府    400台中市中區臺灣大道一段1號     NA                日藥本舖 台中一中門市   \n",
       "2     日用品外送到府    400台中市中區臺灣大道一段1號     NA               萊爾富4723台中夜市店   \n",
       "3     日用品外送到府    400台中市中區臺灣大道一段1號     NA  全家Famisuper 台中金福仁店_023225   \n",
       "4     日用品外送到府    400台中市中區臺灣大道一段1號     NA           Uber Eats 優市 精武店   \n",
       "...       ...                 ...    ...                        ...   \n",
       "5583     附近店家  701台南市東區中華東路一段366號     NA                    蒸滿足 成大店   \n",
       "5584     附近店家  701台南市東區中華東路一段366號     NA                   小得飲滿 民族店   \n",
       "5585     附近店家  701台南市東區中華東路一段366號     NA                  京享鐵板燒 忠義店   \n",
       "5586     附近店家  701台南市東區中華東路一段366號     NA                 廣西老友麵館 開元店   \n",
       "5587     附近店家  701台南市東區中華東路一段366號     NA                       日希好茶   \n",
       "\n",
       "              df        dt                                     comment  \\\n",
       "0     5.00TWD 費用  10–30 分鐘      在 5 星評分中獲得 4.6 顆星的高人氣餐廳 - 根據 99 則顧客評論。   \n",
       "1     5.00TWD 費用  10–25 分鐘      在 5 星評分中獲得 5.0 顆星的高人氣餐廳 - 根據 58 則顧客評論。   \n",
       "2     5.00TWD 費用  10–30 分鐘  在 5 星評分中獲得 4.8 顆星的高人氣餐廳 - 根據 200 則以上的顧客評論。   \n",
       "3     5.00TWD 費用  10–25 分鐘  在 5 星評分中獲得 4.8 顆星的高人氣餐廳 - 根據 200 則以上的顧客評論。   \n",
       "4     5.00TWD 費用  10–25 分鐘  在 5 星評分中獲得 4.9 顆星的高人氣餐廳 - 根據 200 則以上的顧客評論。   \n",
       "...          ...       ...                                         ...   \n",
       "5583          NA        NA  在 5 星評分中獲得 4.9 顆星的高人氣餐廳 - 根據 200 則以上的顧客評論。   \n",
       "5584          NA        NA      在 5 星評分中獲得 4.9 顆星的高人氣餐廳 - 根據 94 則顧客評論。   \n",
       "5585          NA        NA  在 5 星評分中獲得 4.8 顆星的高人氣餐廳 - 根據 200 則以上的顧客評論。   \n",
       "5586          NA        NA  在 5 星評分中獲得 4.7 顆星的高人氣餐廳 - 根據 200 則以上的顧客評論。   \n",
       "5587          NA        NA  在 5 星評分中獲得 4.9 顆星的高人氣餐廳 - 根據 200 則以上的顧客評論。   \n",
       "\n",
       "      orderable  \n",
       "0          True  \n",
       "1          True  \n",
       "2          True  \n",
       "3          True  \n",
       "4          True  \n",
       "...         ...  \n",
       "5583       True  \n",
       "5584       True  \n",
       "5585       True  \n",
       "5586       True  \n",
       "5587       True  \n",
       "\n",
       "[5588 rows x 8 columns]"
      ]
     },
     "execution_count": 16,
     "metadata": {},
     "output_type": "execute_result"
    }
   ],
   "source": [
    "# Create DataFrame\n",
    "ue_data = pd.DataFrame({'swimlane':col_swimlane,\n",
    "                        'address': col_address,\n",
    "                        'status':col_status, \n",
    "                        'vendor':col_vendor, \n",
    "                        'df':col_delivery_fee, \n",
    "                        'dt':col_delivery_time,\n",
    "                        'comment':col_comment})\n",
    "\n",
    "ue_data['orderable'] = ue_data['status'] == 'NA'\n",
    "col_orderable = ue_data['orderable']\n",
    "ue_data"
   ]
  },
  {
   "cell_type": "markdown",
   "metadata": {
    "cell_id": "286047bc57ba4ab4a33ee196813fd7b2",
    "deepnote_cell_type": "text-cell-h3",
    "formattedRanges": []
   },
   "source": [
    "### Organize final dataframe"
   ]
  },
  {
   "cell_type": "code",
   "execution_count": 17,
   "metadata": {
    "cell_id": "e9457bc9c0a444c7a2cfbf1634e3c26c",
    "deepnote_cell_type": "code",
    "deepnote_to_be_reexecuted": false,
    "execution_context_id": "a0a50eb6-0399-4c8f-bba2-9aff2b7120a6",
    "execution_millis": 0,
    "execution_start": 1732174192525,
    "source_hash": "b3716303"
   },
   "outputs": [],
   "source": [
    "update_time_utc = [update_time] * len (col_delivery_fee)\n",
    "date = [today] * len (col_delivery_fee)"
   ]
  },
  {
   "cell_type": "code",
   "execution_count": 18,
   "metadata": {
    "cell_id": "131740f6e4594a07a5a5cd42f3163094",
    "deepnote_cell_type": "code",
    "deepnote_to_be_reexecuted": false,
    "execution_context_id": "04b35d1c-38a2-4595-b29e-c94c1d64edaf",
    "execution_millis": 0,
    "execution_start": 1732174192581,
    "source_hash": "4ec46570"
   },
   "outputs": [],
   "source": [
    "data= pd.DataFrame({'date_utc':date,\n",
    "                    'update_time_utc':update_time_utc,\n",
    "                    'address':col_address,\n",
    "                    'swimlane':col_swimlane, \n",
    "                    'vendor_name':col_vendor, \n",
    "                    'delivery_fee':col_delivery_fee,\n",
    "                    'delivery_time':col_delivery_time,\n",
    "                    'comment':col_comment,\n",
    "                    'user':col_user,\n",
    "                    'is_orderable':col_orderable,\n",
    "                    'status': col_status\n",
    "                    })"
   ]
  },
  {
   "cell_type": "code",
   "execution_count": 19,
   "metadata": {
    "cell_id": "b1605691662e45bfa2c3240b580b5f29",
    "deepnote_cell_type": "code",
    "deepnote_to_be_reexecuted": false,
    "execution_context_id": "04b35d1c-38a2-4595-b29e-c94c1d64edaf",
    "execution_millis": 0,
    "execution_start": 1732174192625,
    "source_hash": "2e51d07c"
   },
   "outputs": [],
   "source": [
    "# combine address related data\n",
    "result = pd.merge(data, df, on ='address', how = 'left')\n",
    "result['date_utc'] = pd.to_datetime(result['date_utc'])\n",
    "\n",
    "# remove closing vendors\n",
    "filtered_df = result[result['status'] != '已關閉']\n",
    "filtered_df = result[result['vendor_name'] != 'NA']\n",
    "result = filtered_df.copy()"
   ]
  },
  {
   "cell_type": "code",
   "execution_count": 20,
   "metadata": {
    "cell_id": "8729d75dec654cd586af956c32baefdc",
    "deepnote_cell_type": "code",
    "deepnote_table_loading": false,
    "deepnote_table_state": {
     "filters": [],
     "pageIndex": 200,
     "pageSize": 10,
     "sortBy": []
    },
    "deepnote_to_be_reexecuted": false,
    "execution_context_id": "054b00c8-2a45-48fa-944e-0a28aa24c910",
    "execution_millis": 0,
    "execution_start": 1732174192689,
    "source_hash": "d7adee15"
   },
   "outputs": [],
   "source": [
    "# Extracting values using lambda and apply functions\n",
    "result = result.assign(\n",
    "    df_value=result[\"delivery_fee\"].apply(lambda x: float(x.split(\"TWD 費用\")[0]) if isinstance(x, str) and \"TWD 費用\" in x else 0),\n",
    "    dt_value=result[\"delivery_time\"].apply(lambda x: int(x.split(\"–\")[1].split()[0]) if isinstance(x, str) and \"–\" in x else 0),\n",
    "    comment_score=result[\"comment\"].apply(lambda x: float(x.split('獲得')[1].split('顆星')[0]) if isinstance(x, str) and '獲得' in x and '顆星' in x else 0),\n",
    "    comment_count=pd.to_numeric(result[\"comment\"].str.split(\"根據 \").str[1].str.split(\" \").str[0], errors='coerce').fillna(0).astype('Int64')\n",
    ")\n",
    "\n",
    "# add col_rank\n",
    "result['rank'] = result.groupby(\"address\").cumcount() + 1"
   ]
  },
  {
   "cell_type": "code",
   "execution_count": null,
   "metadata": {
    "cell_id": "2e15f15062ed4c5fb503d3c2a272bbc8",
    "deepnote_cell_type": "code",
    "execution_context_id": "a0a50eb6-0399-4c8f-bba2-9aff2b7120a6",
    "execution_millis": 22,
    "execution_start": 1732174192733,
    "source_hash": "1298564d"
   },
   "outputs": [],
   "source": [
    "# Reordering columns\n",
    "result = result[['rank', 'user','date_utc', 'update_time_utc', 'city', 'town', \n",
    "                 'address', 'swimlane', 'vendor_name', 'delivery_fee', 'df_value', \n",
    "                 'delivery_time', 'dt_value', 'comment', 'comment_score', 'comment_count','is_orderable']]\n",
    "\n",
    "\n",
    "result"
   ]
  },
  {
   "cell_type": "markdown",
   "metadata": {
    "cell_id": "9b9b9c6b2af64c118f481eafed4b9f91",
    "deepnote_cell_type": "text-cell-h3",
    "formattedRanges": []
   },
   "source": [
    "### Upload dataframe to GCP"
   ]
  },
  {
   "cell_type": "markdown",
   "metadata": {
    "cell_id": "c63b637022864426bb2f4bd118882331",
    "deepnote_cell_type": "text-cell-p",
    "formattedRanges": [
     {
      "fromCodePoint": 24,
      "ranges": [],
      "toCodePoint": 97,
      "type": "link",
      "url": "https://pandas.pydata.org/docs/reference/api/pandas.DataFrame.to_gbq.html"
     }
    ]
   },
   "source": [
    "pandas to gcp handbook: https://pandas.pydata.org/docs/reference/api/pandas.DataFrame.to_gbq.html"
   ]
  },
  {
   "cell_type": "code",
   "execution_count": null,
   "metadata": {
    "cell_id": "b761169d8c404bf1af31b04415bc6a68",
    "deepnote_app_is_output_hidden": true,
    "deepnote_cell_type": "code",
    "execution_context_id": "4630dea5-d565-4070-8fdc-311c3393224f",
    "execution_millis": 2250,
    "execution_start": 1732174192841,
    "is_output_hidden": true,
    "source_hash": "1046cf5f"
   },
   "outputs": [],
   "source": [
    "!pip install pandas_gbq==0.20.0"
   ]
  },
  {
   "cell_type": "code",
   "execution_count": 24,
   "metadata": {
    "cell_id": "97f302744d5c48bbbb8b5fcab93ce0d4",
    "deepnote_cell_type": "code",
    "execution_context_id": "04b35d1c-38a2-4595-b29e-c94c1d64edaf",
    "execution_millis": 0,
    "execution_start": 1732174195137,
    "source_hash": "4ea0b470"
   },
   "outputs": [],
   "source": [
    "import pandas as pd\n",
    "from datetime import datetime\n",
    "import re\n",
    "import google.oauth2.credentials\n",
    "import pandas_gbq\n",
    "import json"
   ]
  },
  {
   "cell_type": "code",
   "execution_count": null,
   "metadata": {
    "cell_id": "b8fd03cc353549c1be5555e37efce0c8",
    "deepnote_cell_type": "code",
    "execution_context_id": "4630dea5-d565-4070-8fdc-311c3393224f",
    "execution_millis": 223,
    "execution_start": 1732174195181,
    "source_hash": "d6e841f6"
   },
   "outputs": [],
   "source": [
    "f = open('gcp_info/user_account.json') # add GCP token\n",
    "credential = json.load(f)\n",
    "\n",
    "credentials = google.oauth2.credentials.Credentials(\n",
    "    credential['token'],\n",
    "    refresh_token=credential['refresh_token'],\n",
    "    token_uri=credential['token_uri'],\n",
    "    client_id=credential['client_id'],\n",
    "    client_secret=credential['client_secret']\n",
    "    )\n",
    "\n",
    "pandas_gbq.context.credentials = credentials"
   ]
  },
  {
   "cell_type": "code",
   "execution_count": null,
   "metadata": {
    "cell_id": "fd116327b6bf4b9e978a2c2b2ddb0eb9",
    "deepnote_cell_type": "code",
    "execution_context_id": "4630dea5-d565-4070-8fdc-311c3393224f",
    "execution_millis": 5020,
    "execution_start": 1732174195449,
    "source_hash": "c386137f"
   },
   "outputs": [],
   "source": [
    "project_id = 'database_name'\n",
    "table_id = 'table_name'\n",
    "\n",
    "result.to_gbq(destination_table = table_id, \n",
    "              project_id = project_id, \n",
    "              credentials = credentials, \n",
    "              if_exists='append')"
   ]
  },
  {
   "cell_type": "markdown",
   "metadata": {
    "cell_id": "34235b5742354834b6aef84abd9beb95",
    "deepnote_cell_type": "text-cell-h3",
    "formattedRanges": []
   },
   "source": [
    "### Complete UE Scraper"
   ]
  },
  {
   "cell_type": "code",
   "execution_count": 29,
   "metadata": {
    "cell_id": "c5f592df1ed841b5be08bb8d614ecdbe",
    "deepnote_cell_type": "code",
    "execution_context_id": "04b35d1c-38a2-4595-b29e-c94c1d64edaf",
    "execution_millis": 0,
    "execution_start": 1732174210945,
    "source_hash": "6308c4f6"
   },
   "outputs": [],
   "source": [
    "end=time.perf_counter()"
   ]
  },
  {
   "cell_type": "code",
   "execution_count": null,
   "metadata": {
    "cell_id": "b3d7a28247764b1b9adb2e36218c0d86",
    "deepnote_cell_type": "code",
    "execution_context_id": "fbd16da2-8648-4305-9027-911556945375",
    "execution_millis": 0,
    "execution_start": 1732174210989,
    "source_hash": "e4a87d0a"
   },
   "outputs": [],
   "source": [
    "print(\"執行時間: %f 秒\" % (end-start))"
   ]
  },
  {
   "cell_type": "markdown",
   "metadata": {
    "created_in_deepnote_cell": true,
    "deepnote_cell_type": "markdown"
   },
   "source": [
    "<a style='text-decoration:none;line-height:16px;display:flex;color:#5B5B62;padding:10px;justify-content:end;' href='https://deepnote.com?utm_source=created-in-deepnote-cell&projectId=ca7b9e5b-3059-42bb-8cc1-8f6e198045f7' target=\"_blank\">\n",
    "<img alt='Created in deepnote.com' style='display:inline;max-height:16px;margin:0px;margin-right:7.5px;' src='data:image/svg+xml;base64,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' > </img>\n",
    "Created in <span style='font-weight:600;margin-left:4px;'>Deepnote</span></a>"
   ]
  }
 ],
 "metadata": {
  "deepnote_notebook_id": "2ed4f492f27b41c1af099f34c21637df",
  "language_info": {
   "name": "python"
  }
 },
 "nbformat": 4,
 "nbformat_minor": 0
}
