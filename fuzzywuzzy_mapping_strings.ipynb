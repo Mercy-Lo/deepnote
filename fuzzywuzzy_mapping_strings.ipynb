{
 "cells": [
  {
   "cell_type": "markdown",
   "metadata": {
    "cell_id": "c644a731bc0d471d9664b0eb70a913f7",
    "deepnote_cell_type": "text-cell-h3",
    "formattedRanges": []
   },
   "source": [
    "### Set environment"
   ]
  },
  {
   "cell_type": "code",
   "execution_count": 1,
   "metadata": {
    "cell_id": "638caa7740864adbba4c2d837f8da89d",
    "deepnote_cell_type": "code",
    "deepnote_to_be_reexecuted": false,
    "execution_context_id": "539ba50e-3325-4305-bfb2-24fd95c1b7e2",
    "execution_millis": 1262,
    "execution_start": 1732109429118,
    "source_hash": "c1cc3994"
   },
   "outputs": [],
   "source": [
    "import pandas as pd\n",
    "import numpy as np\n",
    "from datetime import datetime, timedelta\n",
    "from dateutil.parser import parse\n",
    "import json\n",
    "import os.path\n",
    "from joblib import dump, load\n",
    "import google.oauth2.credentials\n",
    "import pandas_gbq\n",
    "from itertools import zip_longest\n",
    "import re\n",
    "import pygsheets\n",
    "from get_data import bigquery_data\n",
    "import time"
   ]
  },
  {
   "cell_type": "markdown",
   "metadata": {
    "cell_id": "b0ef6d73732d44cbb64096e9a58203fb",
    "deepnote_cell_type": "text-cell-h3",
    "formattedRanges": []
   },
   "source": [
    "### Start timing & get the current update time"
   ]
  },
  {
   "cell_type": "code",
   "execution_count": null,
   "metadata": {
    "cell_id": "d74cef3a92ac4e4ab6c865fa6b12edfa",
    "deepnote_cell_type": "code",
    "deepnote_to_be_reexecuted": false,
    "execution_context_id": "e168d18f-bf8f-4a61-88ac-9ba714e7c73b",
    "execution_millis": 1,
    "execution_start": 1732109430431,
    "source_hash": "a53e9dfc"
   },
   "outputs": [],
   "source": [
    "start = time.perf_counter()\n",
    "update_time =datetime.fromtimestamp(time.time())\n",
    "print(f\"Update time: {update_time}\")"
   ]
  },
  {
   "cell_type": "markdown",
   "metadata": {
    "cell_id": "a2ffa281006345deb0a8beb2ef90987b",
    "deepnote_cell_type": "text-cell-h3",
    "formattedRanges": []
   },
   "source": [
    "### Load BigQuery credentials"
   ]
  },
  {
   "cell_type": "code",
   "execution_count": null,
   "metadata": {
    "cell_id": "e39a29f5134d4cbe9ae7738eaf521ca4",
    "deepnote_cell_type": "code",
    "deepnote_to_be_reexecuted": false,
    "execution_context_id": "e168d18f-bf8f-4a61-88ac-9ba714e7c73b",
    "execution_millis": 181,
    "execution_start": 1732109430481,
    "source_hash": "6ee4e06"
   },
   "outputs": [],
   "source": [
    "f = open('user_account.json') #GCP_key\n",
    "credential = json.load(f)\n",
    "\n",
    "credentials = google.oauth2.credentials.Credentials(\n",
    "    credential['token'],\n",
    "    refresh_token=credential['refresh_token'],\n",
    "    token_uri=credential['token_uri'],\n",
    "    client_id=credential['client_id'],\n",
    "    client_secret=credential['client_secret']\n",
    ")\n",
    "\n",
    "pandas_gbq.context.credentials = credentials\n",
    "bigquery_data.get_bigquery_credential()\n",
    "f.close()"
   ]
  },
  {
   "cell_type": "markdown",
   "metadata": {
    "cell_id": "5b08794920e24e93bcd8c13d58d3349e",
    "deepnote_cell_type": "text-cell-h3",
    "formattedRanges": []
   },
   "source": [
    "### Set GCP"
   ]
  },
  {
   "cell_type": "code",
   "execution_count": null,
   "metadata": {
    "cell_id": "3ebb830d7de64d3b956bbd5211cb61ae",
    "deepnote_cell_type": "code",
    "execution_context_id": "e168d18f-bf8f-4a61-88ac-9ba714e7c73b",
    "execution_millis": 1,
    "execution_start": 1732109430709,
    "source_hash": "7a044eff"
   },
   "outputs": [],
   "source": [
    "project_id = \"database_name\"\n",
    "table_id = 'table_name'"
   ]
  },
  {
   "cell_type": "code",
   "execution_count": null,
   "metadata": {
    "cell_id": "1c4a1efa3e9b48b6b6988478d378d2c3",
    "deepnote_cell_type": "code",
    "execution_context_id": "539ba50e-3325-4305-bfb2-24fd95c1b7e2",
    "execution_millis": 5892,
    "execution_start": 1732109430762,
    "source_hash": "85eb8cfa"
   },
   "outputs": [],
   "source": [
    "# remove similarity_value under 70 scores\n",
    "filter_similarity_df = bigquery_data.get_sql_data(\"sql/filter_similarity.sql\")\n",
    "filter_similarity_df.to_gbq(\n",
    "    destination_table=table_id,\n",
    "    project_id=project_id,\n",
    "    credentials=credentials,\n",
    "    if_exists='replace'\n",
    ")\n",
    "\n",
    "print(\"Data uploaded successfully.\")"
   ]
  },
  {
   "cell_type": "markdown",
   "metadata": {
    "cell_id": "7cf5042c4e004ad28fb28b1fde3314ba",
    "deepnote_cell_type": "text-cell-h3",
    "formattedRanges": []
   },
   "source": [
    "### Get new sf_lead.company"
   ]
  },
  {
   "cell_type": "code",
   "execution_count": 6,
   "metadata": {
    "cell_id": "f3379ec38c16453d8814451932fa771c",
    "deepnote_cell_type": "code",
    "deepnote_to_be_reexecuted": false,
    "execution_context_id": "539ba50e-3325-4305-bfb2-24fd95c1b7e2",
    "execution_millis": 463553,
    "execution_start": 1732109436702,
    "source_hash": "53ae15f0"
   },
   "outputs": [
    {
     "data": {
      "application/vnd.deepnote.dataframe.v3+json": {
       "column_count": 7,
       "columns": [
        {
         "dtype": "object",
         "name": "sf_lead_city",
         "stats": {
          "categories": [
           {
            "count": 4,
            "name": "Chiayi City"
           },
           {
            "count": 1,
            "name": "Taichung City"
           }
          ],
          "nan_count": 0,
          "unique_count": 2
         }
        },
        {
         "dtype": "object",
         "name": "sf_lead_grid",
         "stats": {
          "categories": [
           {
            "count": 4,
            "name": "HRLBX3"
           },
           {
            "count": 1,
            "name": "HRD69Z"
           }
          ],
          "nan_count": 0,
          "unique_count": 2
         }
        },
        {
         "dtype": "object",
         "name": "sf_lead_company",
         "stats": {
          "categories": [
           {
            "count": 4,
            "name": "鑫園飯店"
           },
           {
            "count": 1,
            "name": "甲中盐酥鸡"
           }
          ],
          "nan_count": 0,
          "unique_count": 2
         }
        },
        {
         "dtype": "object",
         "name": "sf_account_city",
         "stats": {
          "categories": [
           {
            "count": 4,
            "name": "Chiayi City"
           },
           {
            "count": 1,
            "name": "Taichung City"
           }
          ],
          "nan_count": 0,
          "unique_count": 2
         }
        },
        {
         "dtype": "object",
         "name": "sf_account_grid",
         "stats": {
          "categories": [
           {
            "count": 1,
            "name": "HAMZW4"
           },
           {
            "count": 1,
            "name": "HA67N2"
           },
           {
            "count": 3,
            "name": "3 others"
           }
          ],
          "nan_count": 0,
          "unique_count": 5
         }
        },
        {
         "dtype": "object",
         "name": "sf_account_vendor",
         "stats": {
          "categories": [
           {
            "count": 1,
            "name": "九月初生乳脆皮甜甜圈 (大甲南陽店)"
           },
           {
            "count": 1,
            "name": "O_BAR 韓式石鍋拌飯、泡菜鍋"
           },
           {
            "count": 3,
            "name": "3 others"
           }
          ],
          "nan_count": 0,
          "unique_count": 5
         }
        },
        {
         "dtype": "float64",
         "name": "distances_meters",
         "stats": {
          "histogram": [
           {
            "bin_end": 264.69132503259175,
            "bin_start": 241.01141372904,
            "count": 1
           },
           {
            "bin_end": 288.3712363361435,
            "bin_start": 264.69132503259175,
            "count": 1
           },
           {
            "bin_end": 312.0511476396953,
            "bin_start": 288.3712363361435,
            "count": 0
           },
           {
            "bin_end": 335.73105894324704,
            "bin_start": 312.0511476396953,
            "count": 0
           },
           {
            "bin_end": 359.4109702467988,
            "bin_start": 335.73105894324704,
            "count": 0
           },
           {
            "bin_end": 383.0908815503506,
            "bin_start": 359.4109702467988,
            "count": 0
           },
           {
            "bin_end": 406.7707928539024,
            "bin_start": 383.0908815503506,
            "count": 0
           },
           {
            "bin_end": 430.45070415745414,
            "bin_start": 406.7707928539024,
            "count": 1
           },
           {
            "bin_end": 454.1306154610059,
            "bin_start": 430.45070415745414,
            "count": 1
           },
           {
            "bin_end": 477.81052676455766,
            "bin_start": 454.1306154610059,
            "count": 1
           }
          ],
          "max": "477.81052676455766",
          "min": "241.01141372904",
          "nan_count": 0,
          "unique_count": 5
         }
        },
        {
         "dtype": "int64",
         "name": "_deepnote_index_column"
        }
       ],
       "row_count": 5,
       "rows": [
        {
         "_deepnote_index_column": 0,
         "distances_meters": 280.1928773785999,
         "sf_account_city": "Taichung City",
         "sf_account_grid": "HAMZW4",
         "sf_account_vendor": "九月初生乳脆皮甜甜圈 (大甲南陽店)",
         "sf_lead_city": "Taichung City",
         "sf_lead_company": "甲中盐酥鸡",
         "sf_lead_grid": "HRD69Z"
        },
        {
         "_deepnote_index_column": 1,
         "distances_meters": 438.3746355732387,
         "sf_account_city": "Chiayi City",
         "sf_account_grid": "HA67N2",
         "sf_account_vendor": "O_BAR 韓式石鍋拌飯、泡菜鍋",
         "sf_lead_city": "Chiayi City",
         "sf_lead_company": "鑫園飯店",
         "sf_lead_grid": "HRLBX3"
        },
        {
         "_deepnote_index_column": 2,
         "distances_meters": 477.81052676455766,
         "sf_account_city": "Chiayi City",
         "sf_account_grid": "HA86V2",
         "sf_account_vendor": "合平鴨肉羹",
         "sf_lead_city": "Chiayi City",
         "sf_lead_company": "鑫園飯店",
         "sf_lead_grid": "HRLBX3"
        },
        {
         "_deepnote_index_column": 3,
         "distances_meters": 406.77819272343737,
         "sf_account_city": "Chiayi City",
         "sf_account_grid": "HWYR5Y",
         "sf_account_vendor": "李記捲餅舖",
         "sf_lead_city": "Chiayi City",
         "sf_lead_company": "鑫園飯店",
         "sf_lead_grid": "HRLBX3"
        },
        {
         "_deepnote_index_column": 4,
         "distances_meters": 241.01141372904,
         "sf_account_city": "Chiayi City",
         "sf_account_grid": "HALXMT",
         "sf_account_vendor": "桃埕健康餐盒 (嘉義吳鳳店)",
         "sf_lead_city": "Chiayi City",
         "sf_lead_company": "鑫園飯店",
         "sf_lead_grid": "HRLBX3"
        }
       ]
      },
      "text/html": [
       "<div>\n",
       "<style scoped>\n",
       "    .dataframe tbody tr th:only-of-type {\n",
       "        vertical-align: middle;\n",
       "    }\n",
       "\n",
       "    .dataframe tbody tr th {\n",
       "        vertical-align: top;\n",
       "    }\n",
       "\n",
       "    .dataframe thead th {\n",
       "        text-align: right;\n",
       "    }\n",
       "</style>\n",
       "<table border=\"1\" class=\"dataframe\">\n",
       "  <thead>\n",
       "    <tr style=\"text-align: right;\">\n",
       "      <th></th>\n",
       "      <th>sf_lead_city</th>\n",
       "      <th>sf_lead_grid</th>\n",
       "      <th>sf_lead_company</th>\n",
       "      <th>sf_account_city</th>\n",
       "      <th>sf_account_grid</th>\n",
       "      <th>sf_account_vendor</th>\n",
       "      <th>distances_meters</th>\n",
       "    </tr>\n",
       "  </thead>\n",
       "  <tbody>\n",
       "    <tr>\n",
       "      <th>0</th>\n",
       "      <td>Taichung City</td>\n",
       "      <td>HRD69Z</td>\n",
       "      <td>甲中盐酥鸡</td>\n",
       "      <td>Taichung City</td>\n",
       "      <td>HAMZW4</td>\n",
       "      <td>九月初生乳脆皮甜甜圈 (大甲南陽店)</td>\n",
       "      <td>280.192877</td>\n",
       "    </tr>\n",
       "    <tr>\n",
       "      <th>1</th>\n",
       "      <td>Chiayi City</td>\n",
       "      <td>HRLBX3</td>\n",
       "      <td>鑫園飯店</td>\n",
       "      <td>Chiayi City</td>\n",
       "      <td>HA67N2</td>\n",
       "      <td>O_BAR 韓式石鍋拌飯、泡菜鍋</td>\n",
       "      <td>438.374636</td>\n",
       "    </tr>\n",
       "    <tr>\n",
       "      <th>2</th>\n",
       "      <td>Chiayi City</td>\n",
       "      <td>HRLBX3</td>\n",
       "      <td>鑫園飯店</td>\n",
       "      <td>Chiayi City</td>\n",
       "      <td>HA86V2</td>\n",
       "      <td>合平鴨肉羹</td>\n",
       "      <td>477.810527</td>\n",
       "    </tr>\n",
       "    <tr>\n",
       "      <th>3</th>\n",
       "      <td>Chiayi City</td>\n",
       "      <td>HRLBX3</td>\n",
       "      <td>鑫園飯店</td>\n",
       "      <td>Chiayi City</td>\n",
       "      <td>HWYR5Y</td>\n",
       "      <td>李記捲餅舖</td>\n",
       "      <td>406.778193</td>\n",
       "    </tr>\n",
       "    <tr>\n",
       "      <th>4</th>\n",
       "      <td>Chiayi City</td>\n",
       "      <td>HRLBX3</td>\n",
       "      <td>鑫園飯店</td>\n",
       "      <td>Chiayi City</td>\n",
       "      <td>HALXMT</td>\n",
       "      <td>桃埕健康餐盒 (嘉義吳鳳店)</td>\n",
       "      <td>241.011414</td>\n",
       "    </tr>\n",
       "  </tbody>\n",
       "</table>\n",
       "</div>"
      ],
      "text/plain": [
       "    sf_lead_city sf_lead_grid sf_lead_company sf_account_city sf_account_grid  \\\n",
       "0  Taichung City       HRD69Z           甲中盐酥鸡   Taichung City          HAMZW4   \n",
       "1    Chiayi City       HRLBX3            鑫園飯店     Chiayi City          HA67N2   \n",
       "2    Chiayi City       HRLBX3            鑫園飯店     Chiayi City          HA86V2   \n",
       "3    Chiayi City       HRLBX3            鑫園飯店     Chiayi City          HWYR5Y   \n",
       "4    Chiayi City       HRLBX3            鑫園飯店     Chiayi City          HALXMT   \n",
       "\n",
       "    sf_account_vendor  distances_meters  \n",
       "0  九月初生乳脆皮甜甜圈 (大甲南陽店)        280.192877  \n",
       "1    O_BAR 韓式石鍋拌飯、泡菜鍋        438.374636  \n",
       "2               合平鴨肉羹        477.810527  \n",
       "3               李記捲餅舖        406.778193  \n",
       "4      桃埕健康餐盒 (嘉義吳鳳店)        241.011414  "
      ]
     },
     "execution_count": 6,
     "metadata": {},
     "output_type": "execute_result"
    }
   ],
   "source": [
    "mapping_list_df = bigquery_data.get_sql_data(\"sql/mapping_list.sql\")\n",
    "mapping_list_df.head(5)"
   ]
  },
  {
   "cell_type": "markdown",
   "metadata": {
    "cell_id": "afbd00b4539142a68f77ec9998d3db7d",
    "deepnote_cell_type": "text-cell-h3",
    "formattedRanges": []
   },
   "source": [
    "### Clean Vendor Name"
   ]
  },
  {
   "cell_type": "code",
   "execution_count": null,
   "metadata": {
    "cell_id": "cbde19932e324493b31c9779b8cd5fcd",
    "deepnote_cell_type": "code",
    "execution_context_id": "26d8d76c-0183-4a25-8e51-2963f97f3913",
    "execution_millis": 0,
    "execution_start": 1732109900298,
    "source_hash": "c35530e7"
   },
   "outputs": [],
   "source": [
    "def clean_text(text):\n",
    "    cleaned_text = re.sub(r'[^\\w\\s]', '', str(text))\n",
    "    cleaned_text = re.sub(' ', '', cleaned_text)\n",
    "    cleaned_text = cleaned_text.lower()\n",
    "    return cleaned_text"
   ]
  },
  {
   "cell_type": "markdown",
   "metadata": {
    "cell_id": "01d35b3abeaf453e91aaac4d704b41b9",
    "deepnote_cell_type": "text-cell-h3",
    "formattedRanges": []
   },
   "source": [
    "### sf lead vs sf account highest similarity"
   ]
  },
  {
   "cell_type": "code",
   "execution_count": 8,
   "metadata": {
    "cell_id": "dbfdc60ed78e4d7f95c507d92d48fad0",
    "deepnote_cell_type": "code",
    "execution_context_id": "26d8d76c-0183-4a25-8e51-2963f97f3913",
    "execution_millis": 1,
    "execution_start": 1732109900345,
    "source_hash": "a6a0af97"
   },
   "outputs": [],
   "source": [
    "from fuzzywuzzy import fuzz"
   ]
  },
  {
   "cell_type": "code",
   "execution_count": null,
   "metadata": {
    "cell_id": "f59f289624db48dcadbf32cf98fead1a",
    "deepnote_cell_type": "code",
    "deepnote_table_loading": false,
    "deepnote_table_state": {
     "conditionalFilters": [],
     "filters": [],
     "pageIndex": 1390,
     "pageSize": 10,
     "sortBy": [],
     "wrappedTextColumnIds": []
    },
    "execution_context_id": "539ba50e-3325-4305-bfb2-24fd95c1b7e2",
    "execution_millis": 73595,
    "execution_start": 1732109900783,
    "source_hash": "7db2f7ee"
   },
   "outputs": [],
   "source": [
    "mapping_list_df['similarity_value'] = mapping_list_df.apply(\n",
    "    lambda row: fuzz.ratio(\n",
    "        clean_text(row['sf_lead_company']),\n",
    "        clean_text(row['sf_account_vendor'])\n",
    "    ), axis=1\n",
    ")\n",
    "\n",
    "mapping_list_df"
   ]
  },
  {
   "cell_type": "code",
   "execution_count": null,
   "metadata": {
    "cell_id": "bc46600475144871a34d7b635be872d0",
    "deepnote_cell_type": "code",
    "execution_context_id": "539ba50e-3325-4305-bfb2-24fd95c1b7e2",
    "execution_millis": 1376,
    "execution_start": 1732109974422,
    "source_hash": "f1b0b4a4"
   },
   "outputs": [],
   "source": [
    "mapping_list_df = mapping_list_df.sort_values(by = 'similarity_value' , ascending=False)\n",
    "mapping_list_df"
   ]
  },
  {
   "cell_type": "code",
   "execution_count": null,
   "metadata": {
    "cell_id": "c8c25192044747898961af4d9ece629c",
    "deepnote_cell_type": "code",
    "deepnote_table_loading": true,
    "deepnote_table_state": {
     "conditionalFilters": [],
     "filters": [],
     "pageIndex": 0,
     "pageSize": 10,
     "sortBy": [],
     "wrappedTextColumnIds": []
    },
    "execution_context_id": "539ba50e-3325-4305-bfb2-24fd95c1b7e2",
    "execution_millis": 2870,
    "execution_start": 1732109975993,
    "source_hash": "a1f1c257"
   },
   "outputs": [],
   "source": [
    "# 針對每個 sf_lead_company，選擇相似度最高的記錄\n",
    "highest_similarity_df = mapping_list_df.loc[\n",
    "    mapping_list_df.groupby('sf_lead_grid')['similarity_value'].idxmax()\n",
    "]\n",
    "\n",
    "# 按照 similarity_value 由大到小排序\n",
    "highest_similarity_df = highest_similarity_df.sort_values(by='similarity_value', ascending=False).reset_index(drop=True)\n",
    "\n",
    "# 加入資料更新時間\n",
    "highest_similarity_df['update_time'] = datetime.fromtimestamp(time.time())\n",
    "\n",
    "highest_similarity_df"
   ]
  },
  {
   "cell_type": "code",
   "execution_count": null,
   "metadata": {
    "cell_id": "9bce9b843c9c4a67a77ef893c5000916",
    "deepnote_cell_type": "code",
    "execution_context_id": "539ba50e-3325-4305-bfb2-24fd95c1b7e2",
    "execution_millis": 3906,
    "execution_start": 1732109978909,
    "source_hash": "c02982d7"
   },
   "outputs": [],
   "source": [
    "highest_similarity_df.to_gbq(\n",
    "    destination_table=table_id,\n",
    "    project_id=project_id,\n",
    "    credentials=credentials,\n",
    "    if_exists='append'\n",
    ")"
   ]
  },
  {
   "cell_type": "markdown",
   "metadata": {
    "cell_id": "67418787cf6b47c1a32d2fe9a5273905",
    "deepnote_cell_type": "text-cell-h3",
    "formattedRanges": []
   },
   "source": [
    "### Complete Google API"
   ]
  },
  {
   "cell_type": "code",
   "execution_count": null,
   "metadata": {
    "cell_id": "a734bf93597448e096b807f7161a2dfd",
    "deepnote_cell_type": "code",
    "execution_context_id": "26d8d76c-0183-4a25-8e51-2963f97f3913",
    "execution_millis": 1,
    "execution_start": 1732109982861,
    "source_hash": "22217d95"
   },
   "outputs": [],
   "source": [
    "end=time.perf_counter()\n",
    "print(\"執行時間: %f 秒\" % (end-start))"
   ]
  },
  {
   "cell_type": "markdown",
   "metadata": {
    "created_in_deepnote_cell": true,
    "deepnote_cell_type": "markdown"
   },
   "source": [
    "<a style='text-decoration:none;line-height:16px;display:flex;color:#5B5B62;padding:10px;justify-content:end;' href='https://deepnote.com?utm_source=created-in-deepnote-cell&projectId=7092d83a-ef33-4093-ac1b-259d18d53a40' target=\"_blank\">\n",
    "<img alt='Created in deepnote.com' style='display:inline;max-height:16px;margin:0px;margin-right:7.5px;' src='data:image/svg+xml;base64,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' > </img>\n",
    "Created in <span style='font-weight:600;margin-left:4px;'>Deepnote</span></a>"
   ]
  }
 ],
 "metadata": {
  "deepnote_notebook_id": "fed616a7c0c744be9a431986de7ccea8",
  "language_info": {
   "name": "python"
  }
 },
 "nbformat": 4,
 "nbformat_minor": 0
}
