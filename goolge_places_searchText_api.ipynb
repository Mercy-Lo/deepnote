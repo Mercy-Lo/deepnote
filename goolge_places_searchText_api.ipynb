{
 "cells": [
  {
   "cell_type": "markdown",
   "metadata": {
    "cell_id": "f571974648724f72b66b9be8db5de2c9",
    "deepnote_cell_type": "text-cell-h3",
    "formattedRanges": []
   },
   "source": [
    "### Set environment"
   ]
  },
  {
   "cell_type": "code",
   "execution_count": 1,
   "metadata": {
    "cell_id": "fc979e63508d4cf5b8bba4e9c831a146",
    "deepnote_cell_type": "code",
    "deepnote_to_be_reexecuted": false,
    "execution_context_id": "ca162192-4270-42d5-886f-8c5e78f31973",
    "execution_millis": 268,
    "execution_start": 1731891633732,
    "source_hash": "58455968"
   },
   "outputs": [],
   "source": [
    "import pandas as pd\n",
    "import numpy as np\n",
    "from datetime import datetime, timedelta\n",
    "from dateutil.parser import parse\n",
    "import json\n",
    "import os.path\n",
    "from joblib import dump, load\n",
    "import google.oauth2.credentials\n",
    "import pandas_gbq\n",
    "from itertools import zip_longest"
   ]
  },
  {
   "cell_type": "code",
   "execution_count": 2,
   "metadata": {
    "cell_id": "686eae9802cf4f83acd60a2301ad4ef9",
    "deepnote_cell_type": "code",
    "deepnote_to_be_reexecuted": false,
    "execution_context_id": "ca162192-4270-42d5-886f-8c5e78f31973",
    "execution_millis": 781,
    "execution_start": 1731891634049,
    "source_hash": "826b18a6"
   },
   "outputs": [],
   "source": [
    "import pygsheets\n",
    "from get_data import bigquery_data"
   ]
  },
  {
   "cell_type": "code",
   "execution_count": 3,
   "metadata": {
    "cell_id": "27837cb7c644489e888965583b82b51f",
    "deepnote_cell_type": "code",
    "deepnote_to_be_reexecuted": false,
    "execution_context_id": "f3e37ae4-288c-430a-bfe2-b9882589631a",
    "execution_millis": 1,
    "execution_start": 1731891634877,
    "source_hash": "56608033"
   },
   "outputs": [],
   "source": [
    "import time\n",
    "start=time.perf_counter()"
   ]
  },
  {
   "cell_type": "code",
   "execution_count": 4,
   "metadata": {
    "cell_id": "3ada8ad8f5ac4a9ea221aebc910e4593",
    "deepnote_cell_type": "code",
    "deepnote_to_be_reexecuted": false,
    "execution_context_id": "f3e37ae4-288c-430a-bfe2-b9882589631a",
    "execution_millis": 0,
    "execution_start": 1731891634925,
    "source_hash": "8d6d503f"
   },
   "outputs": [],
   "source": [
    "from datetime import datetime  \n",
    "update_time = datetime.fromtimestamp(time.time())"
   ]
  },
  {
   "cell_type": "code",
   "execution_count": null,
   "metadata": {
    "cell_id": "548e4db742294a0682c0c43a4093058e",
    "deepnote_cell_type": "code",
    "deepnote_to_be_reexecuted": false,
    "execution_context_id": "f3e37ae4-288c-430a-bfe2-b9882589631a",
    "execution_millis": 121,
    "execution_start": 1731891634974,
    "source_hash": "e2821f6a"
   },
   "outputs": [],
   "source": [
    "bigquery_data.get_bigquery_credential()"
   ]
  },
  {
   "cell_type": "markdown",
   "metadata": {
    "cell_id": "41e0b7e740c3401c8971f6f640b91cbe",
    "deepnote_cell_type": "text-cell-h3",
    "formattedRanges": []
   },
   "source": [
    "### Get Vendor Name"
   ]
  },
  {
   "cell_type": "code",
   "execution_count": null,
   "metadata": {
    "cell_id": "3bcfbe8b8fb942058004d91a2424c184",
    "deepnote_cell_type": "code",
    "deepnote_to_be_reexecuted": false,
    "execution_context_id": "ca162192-4270-42d5-886f-8c5e78f31973",
    "execution_millis": 2112,
    "execution_start": 1731891635141,
    "source_hash": "91f3a458"
   },
   "outputs": [],
   "source": [
    "df = bigquery_data.get_sql_data(\"sql/fp_vendors.sql\")\n",
    "df"
   ]
  },
  {
   "cell_type": "markdown",
   "metadata": {
    "cell_id": "c1083db53cab4ca8b43f546117569e30",
    "deepnote_cell_type": "text-cell-h3",
    "formattedRanges": []
   },
   "source": [
    "### Google Places SearchText API"
   ]
  },
  {
   "cell_type": "code",
   "execution_count": null,
   "metadata": {
    "cell_id": "4cdd0b06d83044bcb8e799c068775321",
    "deepnote_cell_type": "code",
    "deepnote_to_be_reexecuted": false,
    "execution_context_id": "f3e37ae4-288c-430a-bfe2-b9882589631a",
    "execution_millis": 1,
    "execution_start": 1731891637306,
    "source_hash": "14fc6b38"
   },
   "outputs": [],
   "source": [
    "vendor_data_dict = df['vendor_name'].to_dict()\n",
    "print(vendor_data_dict)"
   ]
  },
  {
   "cell_type": "code",
   "execution_count": 8,
   "metadata": {
    "cell_id": "fca3507d169042b28cf16dc2d1fd9690",
    "deepnote_cell_type": "code",
    "deepnote_to_be_reexecuted": false,
    "execution_context_id": "f3e37ae4-288c-430a-bfe2-b9882589631a",
    "execution_millis": 0,
    "execution_start": 1731891637373,
    "source_hash": "e8eae88f"
   },
   "outputs": [],
   "source": [
    "responses = []\n",
    "vendor_name = []"
   ]
  },
  {
   "cell_type": "code",
   "execution_count": null,
   "metadata": {
    "cell_id": "7a866330c16f40c3886c7ca8ff04d166",
    "deepnote_cell_type": "code",
    "deepnote_to_be_reexecuted": false,
    "execution_context_id": "f3e37ae4-288c-430a-bfe2-b9882589631a",
    "execution_millis": 231,
    "execution_start": 1731891637425,
    "source_hash": "890930a7"
   },
   "outputs": [],
   "source": [
    "f = open('google_key.json') # add Google key\n",
    "google_key = json.load(f)"
   ]
  },
  {
   "cell_type": "code",
   "execution_count": null,
   "metadata": {
    "cell_id": "aa5b8ae489844c469b0f0ae85dfc20bf",
    "deepnote_cell_type": "code",
    "deepnote_to_be_reexecuted": false,
    "execution_context_id": "ca162192-4270-42d5-886f-8c5e78f31973",
    "execution_millis": 141804,
    "execution_start": 1731891637705,
    "source_hash": "9cc1ce17"
   },
   "outputs": [],
   "source": [
    "import requests\n",
    "from itertools import islice\n",
    "\n",
    "url = 'https://places.googleapis.com/v1/places:searchText'\n",
    "\n",
    "headers = {\n",
    "    'Content-Type': 'application/json',\n",
    "    'X-Goog-Api-Key': google_key['X-Goog-Api-Key_4'],\n",
    "    'X-Goog-FieldMask': 'places.displayName,places.businessStatus,places.rating,places.userRatingCount,places.priceLevel'\n",
    "}\n",
    "\n",
    "chunk_size = 10\n",
    "vendor_data_values = list(vendor_data_dict.values())\n",
    "\n",
    "for chunk_start in range(0, len(vendor_data_values), chunk_size):\n",
    "    chunk = vendor_data_values[chunk_start:chunk_start + chunk_size]\n",
    "    \n",
    "    for value in chunk:\n",
    "        data = {\n",
    "            \"textQuery\": value,\n",
    "            \"languageCode\": \"zh-TW\",\n",
    "            \"maxResultCount\": 1,\n",
    "            \"locationRestriction\": {\n",
    "                \"rectangle\": {\n",
    "                    \"low\": {\n",
    "                        \"latitude\": 21,\n",
    "                        \"longitude\": 119\n",
    "                    },\n",
    "                    \"high\": {\n",
    "                        \"latitude\": 26,\n",
    "                        \"longitude\": 123\n",
    "                    }\n",
    "                }\n",
    "            }\n",
    "        }\n",
    "        response = requests.post(url, headers=headers, json=data)\n",
    "        responses.append(response.json())\n",
    "        vendor_name.append(value)\n",
    "        \n",
    "# print(\"responses:\", responses)\n",
    "# print(\"vendor name:\", vendor_name)"
   ]
  },
  {
   "cell_type": "code",
   "execution_count": 12,
   "metadata": {
    "cell_id": "fcfcd2324a6a42348379cf1bcf2c243b",
    "deepnote_cell_type": "code",
    "deepnote_to_be_reexecuted": false,
    "execution_context_id": "f3e37ae4-288c-430a-bfe2-b9882589631a",
    "execution_millis": 0,
    "execution_start": 1731891779609,
    "source_hash": "8dda8898"
   },
   "outputs": [],
   "source": [
    "ratings = []\n",
    "business_statuses = []\n",
    "price_levels = []\n",
    "user_rating_counts = []\n",
    "display_names = []"
   ]
  },
  {
   "cell_type": "code",
   "execution_count": 13,
   "metadata": {
    "cell_id": "dcee826f1b2249a5832a4a3ae0799e87",
    "deepnote_cell_type": "code",
    "deepnote_to_be_reexecuted": false,
    "execution_context_id": "f3e37ae4-288c-430a-bfe2-b9882589631a",
    "execution_millis": 0,
    "execution_start": 1731891779665,
    "source_hash": "2fcd7985"
   },
   "outputs": [],
   "source": [
    "for response in responses:\n",
    "    if response:\n",
    "        place = response['places'][0]\n",
    "        ratings.append(place.get('rating', 0))\n",
    "        business_statuses.append(place.get('businessStatus', \"NA\"))\n",
    "        price_levels.append(place.get('priceLevel', \"NA\"))\n",
    "        user_rating_counts.append(place.get('userRatingCount', 0))\n",
    "        display_name = place.get('displayName', {}).get('text', \"NA\")\n",
    "        display_names.append(display_name)\n",
    "    else:\n",
    "        ratings.append(0)\n",
    "        business_statuses.append(\"NA\")\n",
    "        price_levels.append(\"NA\")\n",
    "        user_rating_counts.append(0)\n",
    "        display_names.append(\"NA\")"
   ]
  },
  {
   "cell_type": "code",
   "execution_count": 14,
   "metadata": {
    "cell_id": "bec51046eb7e4720be0353f1b34bed1e",
    "deepnote_cell_type": "code",
    "execution_context_id": "f3e37ae4-288c-430a-bfe2-b9882589631a",
    "execution_millis": 0,
    "execution_start": 1731891779713,
    "source_hash": "d724e0a3"
   },
   "outputs": [],
   "source": [
    "source = len(vendor_name) * [\"fp\"]"
   ]
  },
  {
   "cell_type": "code",
   "execution_count": 15,
   "metadata": {
    "cell_id": "0e37ba65de564ec8bf65211b67fab189",
    "deepnote_cell_type": "code",
    "execution_context_id": "f3e37ae4-288c-430a-bfe2-b9882589631a",
    "execution_millis": 1,
    "execution_start": 1731891779761,
    "source_hash": "868106cd"
   },
   "outputs": [
    {
     "data": {
      "application/vnd.deepnote.dataframe.v3+json": {
       "column_count": 7,
       "columns": [
        {
         "dtype": "object",
         "name": "source",
         "stats": {
          "categories": [
           {
            "count": 450,
            "name": "fp"
           }
          ],
          "nan_count": 0,
          "unique_count": 1
         }
        },
        {
         "dtype": "object",
         "name": "vendor_name",
         "stats": {
          "categories": [
           {
            "count": 1,
            "name": "鐵板饄 (基隆海大店)"
           },
           {
            "count": 1,
            "name": "微風甜甜食品有限公司"
           },
           {
            "count": 448,
            "name": "448 others"
           }
          ],
          "nan_count": 0,
          "unique_count": 450
         }
        },
        {
         "dtype": "object",
         "name": "google_display_names",
         "stats": {
          "categories": [
           {
            "count": 3,
            "name": "NA"
           },
           {
            "count": 3,
            "name": "小辛干麻辣干鍋｜西屯總店｜客製化干鍋｜台中美食｜中式料理｜巷弄美食｜晚餐宵夜首選"
           },
           {
            "count": 444,
            "name": "443 others"
           }
          ],
          "nan_count": 0,
          "unique_count": 445
         }
        },
        {
         "dtype": "float64",
         "name": "google_ratings",
         "stats": {
          "histogram": [
           {
            "bin_end": 0.5,
            "bin_start": 0,
            "count": 20
           },
           {
            "bin_end": 1,
            "bin_start": 0.5,
            "count": 0
           },
           {
            "bin_end": 1.5,
            "bin_start": 1,
            "count": 0
           },
           {
            "bin_end": 2,
            "bin_start": 1.5,
            "count": 0
           },
           {
            "bin_end": 2.5,
            "bin_start": 2,
            "count": 1
           },
           {
            "bin_end": 3,
            "bin_start": 2.5,
            "count": 1
           },
           {
            "bin_end": 3.5,
            "bin_start": 3,
            "count": 11
           },
           {
            "bin_end": 4,
            "bin_start": 3.5,
            "count": 38
           },
           {
            "bin_end": 4.5,
            "bin_start": 4,
            "count": 122
           },
           {
            "bin_end": 5,
            "bin_start": 4.5,
            "count": 257
           }
          ],
          "max": "5.0",
          "min": "0.0",
          "nan_count": 0,
          "unique_count": 24
         }
        },
        {
         "dtype": "int64",
         "name": "google_reviews",
         "stats": {
          "histogram": [
           {
            "bin_end": 2663,
            "bin_start": 0,
            "count": 434
           },
           {
            "bin_end": 5326,
            "bin_start": 2663,
            "count": 11
           },
           {
            "bin_end": 7989,
            "bin_start": 5326,
            "count": 3
           },
           {
            "bin_end": 10652,
            "bin_start": 7989,
            "count": 1
           },
           {
            "bin_end": 13315,
            "bin_start": 10652,
            "count": 0
           },
           {
            "bin_end": 15978,
            "bin_start": 13315,
            "count": 0
           },
           {
            "bin_end": 18641,
            "bin_start": 15978,
            "count": 0
           },
           {
            "bin_end": 21304,
            "bin_start": 18641,
            "count": 0
           },
           {
            "bin_end": 23967,
            "bin_start": 21304,
            "count": 0
           },
           {
            "bin_end": 26630,
            "bin_start": 23967,
            "count": 1
           }
          ],
          "max": "26630",
          "min": "0",
          "nan_count": 0,
          "unique_count": 243
         }
        },
        {
         "dtype": "object",
         "name": "google_business_status",
         "stats": {
          "categories": [
           {
            "count": 446,
            "name": "OPERATIONAL"
           },
           {
            "count": 3,
            "name": "NA"
           },
           {
            "count": 1,
            "name": "CLOSED_TEMPORARILY"
           }
          ],
          "nan_count": 0,
          "unique_count": 3
         }
        },
        {
         "dtype": "object",
         "name": "google_price_levels",
         "stats": {
          "categories": [
           {
            "count": 340,
            "name": "NA"
           },
           {
            "count": 67,
            "name": "PRICE_LEVEL_INEXPENSIVE"
           },
           {
            "count": 43,
            "name": "2 others"
           }
          ],
          "nan_count": 0,
          "unique_count": 4
         }
        },
        {
         "dtype": "int64",
         "name": "_deepnote_index_column"
        }
       ],
       "row_count": 450,
       "rows": [
        {
         "_deepnote_index_column": 0,
         "google_business_status": "OPERATIONAL",
         "google_display_names": "基隆醬鐵板燒",
         "google_price_levels": "PRICE_LEVEL_INEXPENSIVE",
         "google_ratings": 3.7,
         "google_reviews": 182,
         "source": "fp",
         "vendor_name": "鐵板饄 (基隆海大店)"
        },
        {
         "_deepnote_index_column": 1,
         "google_business_status": "OPERATIONAL",
         "google_display_names": "微甜食品有限公司",
         "google_price_levels": "NA",
         "google_ratings": 3.5,
         "google_reviews": 2,
         "source": "fp",
         "vendor_name": "微風甜甜食品有限公司"
        },
        {
         "_deepnote_index_column": 2,
         "google_business_status": "OPERATIONAL",
         "google_display_names": "成月越南小吃店",
         "google_price_levels": "NA",
         "google_ratings": 5,
         "google_reviews": 2,
         "source": "fp",
         "vendor_name": "成月越南小吃"
        },
        {
         "_deepnote_index_column": 3,
         "google_business_status": "OPERATIONAL",
         "google_display_names": "好了啦紅茶冰－林園仁愛店",
         "google_price_levels": "PRICE_LEVEL_INEXPENSIVE",
         "google_ratings": 5,
         "google_reviews": 5,
         "source": "fp",
         "vendor_name": "好了啦紅茶冰 (林園仁愛店)"
        },
        {
         "_deepnote_index_column": 4,
         "google_business_status": "OPERATIONAL",
         "google_display_names": "嘉義麥味登友愛店",
         "google_price_levels": "NA",
         "google_ratings": 4.3,
         "google_reviews": 33,
         "source": "fp",
         "vendor_name": "麥味登 (嘉義友愛店)"
        },
        {
         "_deepnote_index_column": 5,
         "google_business_status": "OPERATIONAL",
         "google_display_names": "COMEBUY新竹民族店",
         "google_price_levels": "NA",
         "google_ratings": 4.3,
         "google_reviews": 117,
         "source": "fp",
         "vendor_name": "COMEBUY (新竹民族店)"
        },
        {
         "_deepnote_index_column": 6,
         "google_business_status": "OPERATIONAL",
         "google_display_names": "蔗一攤豐原三民店",
         "google_price_levels": "PRICE_LEVEL_INEXPENSIVE",
         "google_ratings": 4.7,
         "google_reviews": 57,
         "source": "fp",
         "vendor_name": "蔗一攤 (豐原三民店)"
        },
        {
         "_deepnote_index_column": 7,
         "google_business_status": "OPERATIONAL",
         "google_display_names": "呷尚寶-愛心店",
         "google_price_levels": "NA",
         "google_ratings": 5,
         "google_reviews": 9,
         "source": "fp",
         "vendor_name": "呷尚寶 (大里愛心店)"
        },
        {
         "_deepnote_index_column": 8,
         "google_business_status": "OPERATIONAL",
         "google_display_names": "滝禾製麵所-桃園同安店(拉麵專賣)",
         "google_price_levels": "PRICE_LEVEL_MODERATE",
         "google_ratings": 4.4,
         "google_reviews": 1026,
         "source": "fp",
         "vendor_name": "滝禾製麵所 (桃園同安店)"
        },
        {
         "_deepnote_index_column": 9,
         "google_business_status": "OPERATIONAL",
         "google_display_names": "黛黛茶DailyDae 台南健康店",
         "google_price_levels": "NA",
         "google_ratings": 4.7,
         "google_reviews": 81,
         "source": "fp",
         "vendor_name": "黛黛茶 (台南健康店)"
        }
       ]
      },
      "text/html": [
       "<div>\n",
       "<style scoped>\n",
       "    .dataframe tbody tr th:only-of-type {\n",
       "        vertical-align: middle;\n",
       "    }\n",
       "\n",
       "    .dataframe tbody tr th {\n",
       "        vertical-align: top;\n",
       "    }\n",
       "\n",
       "    .dataframe thead th {\n",
       "        text-align: right;\n",
       "    }\n",
       "</style>\n",
       "<table border=\"1\" class=\"dataframe\">\n",
       "  <thead>\n",
       "    <tr style=\"text-align: right;\">\n",
       "      <th></th>\n",
       "      <th>source</th>\n",
       "      <th>vendor_name</th>\n",
       "      <th>google_display_names</th>\n",
       "      <th>google_ratings</th>\n",
       "      <th>google_reviews</th>\n",
       "      <th>google_business_status</th>\n",
       "      <th>google_price_levels</th>\n",
       "    </tr>\n",
       "  </thead>\n",
       "  <tbody>\n",
       "    <tr>\n",
       "      <th>0</th>\n",
       "      <td>fp</td>\n",
       "      <td>鐵板饄 (基隆海大店)</td>\n",
       "      <td>基隆醬鐵板燒</td>\n",
       "      <td>3.7</td>\n",
       "      <td>182</td>\n",
       "      <td>OPERATIONAL</td>\n",
       "      <td>PRICE_LEVEL_INEXPENSIVE</td>\n",
       "    </tr>\n",
       "    <tr>\n",
       "      <th>1</th>\n",
       "      <td>fp</td>\n",
       "      <td>微風甜甜食品有限公司</td>\n",
       "      <td>微甜食品有限公司</td>\n",
       "      <td>3.5</td>\n",
       "      <td>2</td>\n",
       "      <td>OPERATIONAL</td>\n",
       "      <td>NA</td>\n",
       "    </tr>\n",
       "    <tr>\n",
       "      <th>2</th>\n",
       "      <td>fp</td>\n",
       "      <td>成月越南小吃</td>\n",
       "      <td>成月越南小吃店</td>\n",
       "      <td>5.0</td>\n",
       "      <td>2</td>\n",
       "      <td>OPERATIONAL</td>\n",
       "      <td>NA</td>\n",
       "    </tr>\n",
       "    <tr>\n",
       "      <th>3</th>\n",
       "      <td>fp</td>\n",
       "      <td>好了啦紅茶冰 (林園仁愛店)</td>\n",
       "      <td>好了啦紅茶冰－林園仁愛店</td>\n",
       "      <td>5.0</td>\n",
       "      <td>5</td>\n",
       "      <td>OPERATIONAL</td>\n",
       "      <td>PRICE_LEVEL_INEXPENSIVE</td>\n",
       "    </tr>\n",
       "    <tr>\n",
       "      <th>4</th>\n",
       "      <td>fp</td>\n",
       "      <td>麥味登 (嘉義友愛店)</td>\n",
       "      <td>嘉義麥味登友愛店</td>\n",
       "      <td>4.3</td>\n",
       "      <td>33</td>\n",
       "      <td>OPERATIONAL</td>\n",
       "      <td>NA</td>\n",
       "    </tr>\n",
       "    <tr>\n",
       "      <th>...</th>\n",
       "      <td>...</td>\n",
       "      <td>...</td>\n",
       "      <td>...</td>\n",
       "      <td>...</td>\n",
       "      <td>...</td>\n",
       "      <td>...</td>\n",
       "      <td>...</td>\n",
       "    </tr>\n",
       "    <tr>\n",
       "      <th>445</th>\n",
       "      <td>fp</td>\n",
       "      <td>肥嘟嘟燒肉飯</td>\n",
       "      <td>胖嘟嘟燒肉飯</td>\n",
       "      <td>4.3</td>\n",
       "      <td>101</td>\n",
       "      <td>OPERATIONAL</td>\n",
       "      <td>NA</td>\n",
       "    </tr>\n",
       "    <tr>\n",
       "      <th>446</th>\n",
       "      <td>fp</td>\n",
       "      <td>蠔串 (林口旗艦店)</td>\n",
       "      <td>蠔串-火鍋串烤店</td>\n",
       "      <td>4.6</td>\n",
       "      <td>2520</td>\n",
       "      <td>OPERATIONAL</td>\n",
       "      <td>PRICE_LEVEL_MODERATE</td>\n",
       "    </tr>\n",
       "    <tr>\n",
       "      <th>447</th>\n",
       "      <td>fp</td>\n",
       "      <td>辣比小辛麻辣干鍋 (台中豐原店)</td>\n",
       "      <td>小辛干麻辣干鍋｜西屯總店｜客製化干鍋｜台中美食｜中式料理｜巷弄美食｜晚餐宵夜首選</td>\n",
       "      <td>4.9</td>\n",
       "      <td>128</td>\n",
       "      <td>OPERATIONAL</td>\n",
       "      <td>NA</td>\n",
       "    </tr>\n",
       "    <tr>\n",
       "      <th>448</th>\n",
       "      <td>fp</td>\n",
       "      <td>林記德國豬腳</td>\n",
       "      <td>林家德國豬腳</td>\n",
       "      <td>4.8</td>\n",
       "      <td>176</td>\n",
       "      <td>OPERATIONAL</td>\n",
       "      <td>PRICE_LEVEL_INEXPENSIVE</td>\n",
       "    </tr>\n",
       "    <tr>\n",
       "      <th>449</th>\n",
       "      <td>fp</td>\n",
       "      <td>Harbor burger</td>\n",
       "      <td>Harbor Burger</td>\n",
       "      <td>5.0</td>\n",
       "      <td>51</td>\n",
       "      <td>OPERATIONAL</td>\n",
       "      <td>NA</td>\n",
       "    </tr>\n",
       "  </tbody>\n",
       "</table>\n",
       "<p>450 rows × 7 columns</p>\n",
       "</div>"
      ],
      "text/plain": [
       "    source       vendor_name                      google_display_names  \\\n",
       "0       fp       鐵板饄 (基隆海大店)                                    基隆醬鐵板燒   \n",
       "1       fp        微風甜甜食品有限公司                                  微甜食品有限公司   \n",
       "2       fp            成月越南小吃                                   成月越南小吃店   \n",
       "3       fp    好了啦紅茶冰 (林園仁愛店)                              好了啦紅茶冰－林園仁愛店   \n",
       "4       fp       麥味登 (嘉義友愛店)                                  嘉義麥味登友愛店   \n",
       "..     ...               ...                                       ...   \n",
       "445     fp            肥嘟嘟燒肉飯                                    胖嘟嘟燒肉飯   \n",
       "446     fp        蠔串 (林口旗艦店)                                  蠔串-火鍋串烤店   \n",
       "447     fp  辣比小辛麻辣干鍋 (台中豐原店)  小辛干麻辣干鍋｜西屯總店｜客製化干鍋｜台中美食｜中式料理｜巷弄美食｜晚餐宵夜首選   \n",
       "448     fp            林記德國豬腳                                    林家德國豬腳   \n",
       "449     fp     Harbor burger                             Harbor Burger   \n",
       "\n",
       "     google_ratings  google_reviews google_business_status  \\\n",
       "0               3.7             182            OPERATIONAL   \n",
       "1               3.5               2            OPERATIONAL   \n",
       "2               5.0               2            OPERATIONAL   \n",
       "3               5.0               5            OPERATIONAL   \n",
       "4               4.3              33            OPERATIONAL   \n",
       "..              ...             ...                    ...   \n",
       "445             4.3             101            OPERATIONAL   \n",
       "446             4.6            2520            OPERATIONAL   \n",
       "447             4.9             128            OPERATIONAL   \n",
       "448             4.8             176            OPERATIONAL   \n",
       "449             5.0              51            OPERATIONAL   \n",
       "\n",
       "         google_price_levels  \n",
       "0    PRICE_LEVEL_INEXPENSIVE  \n",
       "1                         NA  \n",
       "2                         NA  \n",
       "3    PRICE_LEVEL_INEXPENSIVE  \n",
       "4                         NA  \n",
       "..                       ...  \n",
       "445                       NA  \n",
       "446     PRICE_LEVEL_MODERATE  \n",
       "447                       NA  \n",
       "448  PRICE_LEVEL_INEXPENSIVE  \n",
       "449                       NA  \n",
       "\n",
       "[450 rows x 7 columns]"
      ]
     },
     "execution_count": 15,
     "metadata": {},
     "output_type": "execute_result"
    }
   ],
   "source": [
    "result = pd.DataFrame({'source': source,'vendor_name':vendor_name, 'google_display_names': display_names,'google_ratings': ratings, 'google_reviews': user_rating_counts, 'google_business_status':business_statuses, 'google_price_levels': price_levels})\n",
    "result"
   ]
  },
  {
   "cell_type": "markdown",
   "metadata": {
    "cell_id": "f93f48f5a84a44b392cf66383d1dc5c2",
    "deepnote_cell_type": "text-cell-h3",
    "formattedRanges": []
   },
   "source": [
    "### Upload dataframe to GCP"
   ]
  },
  {
   "cell_type": "code",
   "execution_count": 22,
   "metadata": {
    "cell_id": "bfb8ad5f53fb4ac08d7a1301a58c39c6",
    "deepnote_cell_type": "code",
    "execution_context_id": "f3e37ae4-288c-430a-bfe2-b9882589631a",
    "execution_millis": 0,
    "execution_start": 1731891780105,
    "source_hash": "4ea0b470"
   },
   "outputs": [],
   "source": [
    "import pandas as pd\n",
    "from datetime import datetime\n",
    "import re\n",
    "import google.oauth2.credentials\n",
    "import pandas_gbq\n",
    "import json"
   ]
  },
  {
   "cell_type": "code",
   "execution_count": null,
   "metadata": {
    "cell_id": "3c8c1edb772844bba9b9b87109b816d5",
    "deepnote_cell_type": "code",
    "execution_context_id": "f3e37ae4-288c-430a-bfe2-b9882589631a",
    "execution_millis": 93,
    "execution_start": 1731891780153,
    "source_hash": "f467d79e"
   },
   "outputs": [],
   "source": [
    "f = open('user_account.json') # add GCP token\n",
    "credential = json.load(f)\n",
    "\n",
    "credentials = google.oauth2.credentials.Credentials(\n",
    "    credential['token'],\n",
    "    refresh_token=credential['refresh_token'],\n",
    "    token_uri=credential['token_uri'],\n",
    "    client_id=credential['client_id'],\n",
    "    client_secret=credential['client_secret']\n",
    "    )\n",
    "\n",
    "pandas_gbq.context.credentials = credentials"
   ]
  },
  {
   "cell_type": "code",
   "execution_count": null,
   "metadata": {
    "cell_id": "2de26bee637a4984a331d5b4ab4c1006",
    "deepnote_cell_type": "code",
    "execution_context_id": "ca162192-4270-42d5-886f-8c5e78f31973",
    "execution_millis": 2967,
    "execution_start": 1731891780297,
    "source_hash": "ed0b6de0"
   },
   "outputs": [],
   "source": [
    "project_id = \"database_name\"\n",
    "table_id = 'table_name'\n",
    "\n",
    "result.to_gbq(destination_table = table_id, \n",
    "              project_id = project_id, \n",
    "              credentials = credentials, \n",
    "              if_exists='append',\n",
    "              table_schema=table_schema)"
   ]
  },
  {
   "cell_type": "markdown",
   "metadata": {
    "cell_id": "2a4be53269084e78b8a9e11aa922e15f",
    "deepnote_cell_type": "text-cell-h3",
    "formattedRanges": []
   },
   "source": [
    "### Complete Google API"
   ]
  },
  {
   "cell_type": "code",
   "execution_count": 26,
   "metadata": {
    "cell_id": "7c28bf349575461ba8479f7dad6003c8",
    "deepnote_cell_type": "code",
    "execution_context_id": "f3e37ae4-288c-430a-bfe2-b9882589631a",
    "execution_millis": 0,
    "execution_start": 1731891785861,
    "source_hash": "6308c4f6"
   },
   "outputs": [],
   "source": [
    "end=time.perf_counter()"
   ]
  },
  {
   "cell_type": "code",
   "execution_count": null,
   "metadata": {
    "cell_id": "10745435068d49df982ed072dba29fa6",
    "deepnote_cell_type": "code",
    "execution_context_id": "f3e37ae4-288c-430a-bfe2-b9882589631a",
    "execution_millis": 0,
    "execution_start": 1731891785913,
    "source_hash": "e4a87d0a"
   },
   "outputs": [],
   "source": [
    "print(\"執行時間: %f 秒\" % (end-start))"
   ]
  },
  {
   "cell_type": "markdown",
   "metadata": {
    "created_in_deepnote_cell": true,
    "deepnote_cell_type": "markdown"
   },
   "source": [
    "<a style='text-decoration:none;line-height:16px;display:flex;color:#5B5B62;padding:10px;justify-content:end;' href='https://deepnote.com?utm_source=created-in-deepnote-cell&projectId=63d13dd8-1e3d-4d6d-8c14-b5ff0c503a9a' target=\"_blank\">\n",
    "<img alt='Created in deepnote.com' style='display:inline;max-height:16px;margin:0px;margin-right:7.5px;' src='data:image/svg+xml;base64,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' > </img>\n",
    "Created in <span style='font-weight:600;margin-left:4px;'>Deepnote</span></a>"
   ]
  }
 ],
 "metadata": {
  "deepnote_notebook_id": "f57c4125dc9a47e9af1497416f771af2",
  "language_info": {
   "name": "python"
  }
 },
 "nbformat": 4,
 "nbformat_minor": 0
}
